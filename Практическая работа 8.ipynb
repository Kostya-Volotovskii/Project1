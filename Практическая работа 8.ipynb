{
 "cells": [
  {
   "cell_type": "markdown",
   "metadata": {},
   "source": [
    "# Задача 1"
   ]
  },
  {
   "cell_type": "code",
   "execution_count": 14,
   "metadata": {},
   "outputs": [
    {
     "name": "stdout",
     "output_type": "stream",
     "text": [
      "3\n",
      "14\n"
     ]
    }
   ],
   "source": [
    "def summ(n):\n",
    "    q=0\n",
    "    i=0\n",
    "    while n!=i:\n",
    "        q=q+i**2\n",
    "        i+=1\n",
    "    return(q)\n",
    "n=int(input())\n",
    "print(summ(n+1))"
   ]
  },
  {
   "cell_type": "markdown",
   "metadata": {},
   "source": [
    "# Задача 2"
   ]
  },
  {
   "cell_type": "code",
   "execution_count": 18,
   "metadata": {},
   "outputs": [
    {
     "name": "stdout",
     "output_type": "stream",
     "text": [
      "3\n",
      "+___ +___ +___ \n",
      "|1 / |2 / |3 / \n",
      "|__\\ |__\\ |__\\ \n",
      "|    |    |    \n"
     ]
    }
   ],
   "source": [
    "n = int(input())\n",
    " \n",
    "for i in range(n):\n",
    "    print(\"+___\", end=\" \")\n",
    "print()\n",
    "for i in range(n):\n",
    "    print(\"|%s /\" % (i + 1), end=\" \")\n",
    "print()\n",
    "for i in range(n):\n",
    "    print(\"|__\\\\\", end=\" \")\n",
    "print()\n",
    "for i in range(n):\n",
    "    print(\"|   \", end=\" \")\n",
    "print()"
   ]
  },
  {
   "cell_type": "markdown",
   "metadata": {},
   "source": [
    "# Задача 3"
   ]
  },
  {
   "cell_type": "code",
   "execution_count": 23,
   "metadata": {},
   "outputs": [
    {
     "name": "stdout",
     "output_type": "stream",
     "text": [
      "1 2 3 4 5\n",
      "5 4 3 2 1 "
     ]
    }
   ],
   "source": [
    "s = list(input().split(' '))\n",
    "for i in reversed(s):\n",
    "    print(i, end=' ')"
   ]
  },
  {
   "cell_type": "markdown",
   "metadata": {},
   "source": [
    "# Задача 4"
   ]
  },
  {
   "cell_type": "code",
   "execution_count": 37,
   "metadata": {},
   "outputs": [
    {
     "name": "stdout",
     "output_type": "stream",
     "text": [
      "7 6 5 4 3 2 1\n",
      "2\n",
      "7 6 4 3 2 1\n"
     ]
    }
   ],
   "source": [
    "a = [int(s) for s in input().split()]\n",
    "k = int(input())\n",
    "for i in range(k + 1, len(a)):\n",
    "    a[i - 1] = a[i]\n",
    "a.pop()\n",
    "print(' '.join([str(i) for i in a]))"
   ]
  },
  {
   "cell_type": "markdown",
   "metadata": {},
   "source": [
    "# Задача 5"
   ]
  },
  {
   "cell_type": "code",
   "execution_count": 49,
   "metadata": {},
   "outputs": [
    {
     "name": "stdout",
     "output_type": "stream",
     "text": [
      "4 5 3 4 2 3\n",
      "5 4 4 3 3 2\n"
     ]
    }
   ],
   "source": [
    "a = [int(i) for i in input().split()]\n",
    "for i in range(1, len(a), 2):\n",
    "    a[i - 1], a[i] = a[i], a[i - 1]\n",
    "print(' '.join([str(i) for i in a]))"
   ]
  },
  {
   "cell_type": "markdown",
   "metadata": {},
   "source": [
    "# Задача 6"
   ]
  },
  {
   "cell_type": "code",
   "execution_count": 61,
   "metadata": {},
   "outputs": [
    {
     "name": "stdout",
     "output_type": "stream",
     "text": [
      "4 0 5 0 3 0 0 5\n",
      "4 5 3 5 0 0 0 0 "
     ]
    }
   ],
   "source": [
    "a = [int(i) for i in input().split()]\n",
    "b = 0\n",
    "for i in range(len(a)):\n",
    "    if a[i] != 0:\n",
    "        print(a[i], end=\" \")\n",
    "    else:\n",
    "        b = b + 1\n",
    "for i in range(b):\n",
    "    print(0, end=\" \")"
   ]
  },
  {
   "cell_type": "markdown",
   "metadata": {},
   "source": [
    "# Задача 7"
   ]
  },
  {
   "cell_type": "code",
   "execution_count": 70,
   "metadata": {},
   "outputs": [
    {
     "name": "stdout",
     "output_type": "stream",
     "text": [
      "5\n",
      "5 4 3 2 1\n",
      "1 2 3 4 5\n"
     ]
    }
   ],
   "source": [
    "def main():\n",
    "    n = int(input())\n",
    "    a = map(int, input().split(maxsplit = n))\n",
    "    print(*sorted(a))\n",
    "    \n",
    "if __name__ == \"__main__\":\n",
    "    main()"
   ]
  },
  {
   "cell_type": "markdown",
   "metadata": {},
   "source": [
    "# Задача 8"
   ]
  },
  {
   "cell_type": "code",
   "execution_count": 83,
   "metadata": {},
   "outputs": [
    {
     "name": "stdout",
     "output_type": "stream",
     "text": [
      "100 2\n",
      "200\n",
      "50\n",
      "1\n"
     ]
    }
   ],
   "source": [
    "S, N = map(int, input().split())\n",
    "volume = sorted([int(input()) for _ in range(N)])\n",
    "amount = sum(volume)\n",
    "while amount > S and N:\n",
    "    amount -= volume.pop()\n",
    "    N -= 1\n",
    "print(N)"
   ]
  },
  {
   "cell_type": "markdown",
   "metadata": {},
   "source": [
    "# Задача 9"
   ]
  },
  {
   "cell_type": "code",
   "execution_count": 141,
   "metadata": {},
   "outputs": [
    {
     "name": "stdout",
     "output_type": "stream",
     "text": [
      "5\n",
      "1 50 3 4 3\n",
      "16\n",
      "1 2 3 4 5 1 3 3 4 5 5 5 5 5 4 5\n",
      "YES\n",
      "NO\n",
      "NO\n",
      "NO\n",
      "YES\n"
     ]
    }
   ],
   "source": [
    "def ourWhip(n, practical, maxCl):\n",
    "    estimation = [0] * n\n",
    "    for click in practical:\n",
    "        estimation[click - 1] += 1\n",
    "    for i in range(n):\n",
    "        if maxCl[i] < estimation[i]:\n",
    "            print('YES')\n",
    "        else:\n",
    "            print('NO')\n",
    "\n",
    "n = int(input())\n",
    "maxCl = [int(i) for i in input().split()]\n",
    "k = int(input())\n",
    "practical = [int(i) for i in input().split()]\n",
    "ourWhip(n, practical, maxCl)"
   ]
  },
  {
   "cell_type": "markdown",
   "metadata": {},
   "source": [
    "# Задача 10"
   ]
  },
  {
   "cell_type": "code",
   "execution_count": 142,
   "metadata": {},
   "outputs": [
    {
     "name": "stdout",
     "output_type": "stream",
     "text": [
      "7 3 4 2 5\n",
      "2 3 4 5 7\n"
     ]
    }
   ],
   "source": [
    "def main():\n",
    "    a = map(int, input().split())\n",
    "    print(*sorted(a))\n",
    "    \n",
    "if __name__ == \"__main__\":\n",
    "    main()"
   ]
  },
  {
   "cell_type": "markdown",
   "metadata": {},
   "source": [
    "# Задача 11"
   ]
  },
  {
   "cell_type": "code",
   "execution_count": 157,
   "metadata": {},
   "outputs": [
    {
     "name": "stdout",
     "output_type": "stream",
     "text": [
      "3\n",
      "Ivanov 15\n",
      "Petrov 10\n",
      "Sidorov 20\n",
      "Sidorov\n",
      "Ivanov\n",
      "Petrov\n"
     ]
    }
   ],
   "source": [
    "num = int(input())\n",
    "varia = [input().split() for _ in range(num)]\n",
    "for i in sorted(varia, key=lambda x: int(x[1]), reverse=True):\n",
    "    print(i[0])"
   ]
  },
  {
   "cell_type": "markdown",
   "metadata": {},
   "source": [
    "# Задача 12"
   ]
  },
  {
   "cell_type": "code",
   "execution_count": 168,
   "metadata": {},
   "outputs": [
    {
     "name": "stdout",
     "output_type": "stream",
     "text": [
      "10 20 30\n",
      "50 20 30\n",
      "1700\n"
     ]
    }
   ],
   "source": [
    "tariffs = sorted([int(s) for s in input().split()])\n",
    "distances = sorted([int(s) for s in input().split()], reverse=True)\n",
    "print(sum(t*d for t, d in zip(tariffs, distances)))"
   ]
  },
  {
   "cell_type": "markdown",
   "metadata": {},
   "source": [
    "# Задача 13"
   ]
  },
  {
   "cell_type": "code",
   "execution_count": 176,
   "metadata": {},
   "outputs": [
    {
     "name": "stdout",
     "output_type": "stream",
     "text": [
      "8(495)430-23-97\n",
      "+7-4-9-5-43-023-97\n",
      "4-3-0-2-3-9-7\n",
      "8-495-430\n",
      "YES\n",
      "YES\n",
      "NO\n"
     ]
    }
   ],
   "source": [
    "def list(param):\n",
    "    param = param.replace('-', '').replace('(', '').replace(')', '')\n",
    "    return param[-10:] if len(param)>7 else '495' + param[-7:]\n",
    " \n",
    "n = 4\n",
    "varia = [input() for _ in range(n)]\n",
    "for note in varia[1:]:\n",
    "    print('YES' if list(varia[0]) == list(note) else 'NO')\n"
   ]
  },
  {
   "cell_type": "markdown",
   "metadata": {},
   "source": [
    "# Задача 14"
   ]
  },
  {
   "cell_type": "code",
   "execution_count": 187,
   "metadata": {},
   "outputs": [
    {
     "name": "stdout",
     "output_type": "stream",
     "text": [
      "2\n",
      "Russia Moscow Petersburg Novgorod Kaluga\n",
      "Ukraine Kiev Donetsk Odessa\n",
      "3\n",
      "Odessa\n",
      "Ukraine\n",
      "Moscow\n",
      "Russia\n",
      "Novgorod\n",
      "Russia\n"
     ]
    }
   ],
   "source": [
    "varia = {}\n",
    "for i in range(int(input())):\n",
    "    country, *cities = input().split()\n",
    "    for city in cities:\n",
    "        varia[city] = country\n",
    "         \n",
    "for i in range(int(input())):\n",
    "    print(varia[input()])"
   ]
  },
  {
   "cell_type": "markdown",
   "metadata": {},
   "source": [
    "# Задача 15"
   ]
  },
  {
   "cell_type": "code",
   "execution_count": 207,
   "metadata": {},
   "outputs": [
    {
     "name": "stdout",
     "output_type": "stream",
     "text": [
      "oh you touch my tralala mmm my ding ding dong\n",
      "ding\n"
     ]
    }
   ],
   "source": [
    "def most_common(t):\n",
    "    return sorted(((x, t.count(x)) for x in set(t.split())), key=lambda x: (-x[1], x[0]))[0][0]\n",
    "t=input()\n",
    "print(most_common(t))"
   ]
  },
  {
   "cell_type": "markdown",
   "metadata": {},
   "source": [
    "# Задача 16"
   ]
  },
  {
   "cell_type": "code",
   "execution_count": 213,
   "metadata": {},
   "outputs": [
    {
     "name": "stdout",
     "output_type": "stream",
     "text": [
      "hi hi what is your name my name is bond james bond my name is damme van damme claude van damme jean claude van damme\n",
      "damme\n",
      "is\n",
      "name\n",
      "van\n",
      "bond\n",
      "claude\n",
      "hi\n",
      "my\n",
      "james\n",
      "jean\n",
      "what\n",
      "your\n"
     ]
    }
   ],
   "source": [
    "from collections import Counter\n",
    "text =input()\n",
    "c = Counter(sorted(text.split()))\n",
    "print(*sorted(c.keys(), key=c.get, reverse=True), sep='\\n')"
   ]
  },
  {
   "cell_type": "markdown",
   "metadata": {},
   "source": [
    "# Задача 17"
   ]
  },
  {
   "cell_type": "code",
   "execution_count": 52,
   "metadata": {},
   "outputs": [
    {
     "name": "stdout",
     "output_type": "stream",
     "text": [
      "105\n",
      "-50\n",
      "ERROR\n"
     ]
    }
   ],
   "source": [
    "def deposit(name, sum):\n",
    "    varia[name] = varia.get(name, 0) + int(sum)\n",
    " \n",
    " \n",
    "def withdraw(name, sum):\n",
    "    varia[name] = varia.get(name, 0) - int(sum)\n",
    " \n",
    "def balance(name):\n",
    "    if name not in varia:\n",
    "        print('ERROR')\n",
    "    else:\n",
    "        print(varia[name])\n",
    " \n",
    "def income(percent):\n",
    "    for k, v in varia.items():\n",
    "        if v > 0:\n",
    "            varia[k] = int(v * ((int(percent)/100) + 1))\n",
    " \n",
    "varia = dict()\n",
    "inFile = open('Zadan17.txt')\n",
    "for line in inFile:\n",
    "    line = line.split()\n",
    "    if 'BALANCE' in line:\n",
    "        balance(line[1])\n",
    "    elif 'DEPOSIT' in line:\n",
    "        deposit(line[1], line[2])\n",
    "    elif 'WITHDRAW' in line:\n",
    "        withdraw(line[1], line[2])\n",
    "    elif 'INCOME' in line:\n",
    "        income(line[1])\n",
    "    else:\n",
    "        withdraw(line[1], line[3])\n",
    "        deposit(line[2], line[3])\n",
    "inFile.close()"
   ]
  },
  {
   "cell_type": "markdown",
   "metadata": {},
   "source": [
    "# Задача 18"
   ]
  },
  {
   "cell_type": "code",
   "execution_count": 9,
   "metadata": {},
   "outputs": [
    {
     "name": "stdout",
     "output_type": "stream",
     "text": [
      "9\n",
      "Alexei Peter_I\n",
      "Anna Peter_I\n",
      "Elizabeth Peter_I\n",
      "Peter_II Alexei\n",
      "Peter_III Anna\n",
      "Paul_I Peter_III\n",
      "Alexander_I Paul_I\n",
      "Nicholaus_I Paul_I\n",
      "Alexander_I 4\n",
      "Alexei 1\n",
      "Anna 1\n",
      "Elizabeth 1\n",
      "Nicholaus_I 4\n",
      "Paul_I 3\n",
      "Peter_I 0\n",
      "Peter_II 2\n",
      "Peter_III 2\n"
     ]
    }
   ],
   "source": [
    "def height(man):\n",
    "    if man not in p_tree:\n",
    "        return 0\n",
    "    else:\n",
    "        return 1 + height(p_tree[man])\n",
    "p_tree = {}\n",
    "n = int(input())\n",
    "for i in range(n - 1):\n",
    "    child, parent = input().split()\n",
    "    p_tree[child] = parent\n",
    "heights = {}\n",
    "for man in set(p_tree.keys()).union(set(p_tree.values())):\n",
    "    heights[man] = height(man)\n",
    "for key, value in sorted(heights.items()):\n",
    "    print(key, value)"
   ]
  },
  {
   "cell_type": "markdown",
   "metadata": {},
   "source": [
    "# Задача 19"
   ]
  },
  {
   "cell_type": "code",
   "execution_count": 10,
   "metadata": {},
   "outputs": [
    {
     "name": "stdout",
     "output_type": "stream",
     "text": [
      "1 2 3 4 5 6 7 8 9 10\n",
      "10\n"
     ]
    }
   ],
   "source": [
    "print(len(set(input().split())))"
   ]
  },
  {
   "cell_type": "markdown",
   "metadata": {},
   "source": [
    "# Задача 20"
   ]
  },
  {
   "cell_type": "code",
   "execution_count": 18,
   "metadata": {},
   "outputs": [
    {
     "name": "stdout",
     "output_type": "stream",
     "text": [
      "She sells sea shells on the sea shore; The shells that she sells are sea shells I'm sure. So if she sells sea shells on the sea shore, I'm sure that the shells are sea shore shells.\n",
      "19\n"
     ]
    }
   ],
   "source": [
    "iin_file = input()\n",
    "a = []\n",
    "for i in iin_file.split('\\n'):\n",
    "    a += i.split()\n",
    "print(len(set(a)))"
   ]
  },
  {
   "cell_type": "markdown",
   "metadata": {},
   "source": [
    "# Задача 21"
   ]
  },
  {
   "cell_type": "code",
   "execution_count": 26,
   "metadata": {},
   "outputs": [
    {
     "name": "stdout",
     "output_type": "stream",
     "text": [
      "0 0 1 1\n",
      "0 1 0 1\n",
      "0 1 1 0\n"
     ]
    }
   ],
   "source": [
    "a = input()\n",
    "b = input()\n",
    "c = ' '.join(map(lambda a, b : str(int(a != b)), a.split(), b.split()))\n",
    "print(c)"
   ]
  },
  {
   "cell_type": "markdown",
   "metadata": {},
   "source": [
    "# Задача 22"
   ]
  },
  {
   "cell_type": "code",
   "execution_count": 43,
   "metadata": {},
   "outputs": [
    {
     "name": "stdout",
     "output_type": "stream",
     "text": [
      "4\n",
      "1 1 2 6 24\n"
     ]
    }
   ],
   "source": [
    "from itertools import accumulate\n",
    "n = int(input())\n",
    "a = []\n",
    "for i in range(n+1):\n",
    "    a.append(i)\n",
    "a = map(lambda x: max(x,1), a)\n",
    "print(*accumulate(a, lambda x, y: x * y))"
   ]
  },
  {
   "cell_type": "markdown",
   "metadata": {},
   "source": [
    "# Задача 23"
   ]
  },
  {
   "cell_type": "code",
   "execution_count": 44,
   "metadata": {},
   "outputs": [
    {
     "name": "stdout",
     "output_type": "stream",
     "text": [
      "8\n",
      "[2, 3, 5, 7]\n"
     ]
    }
   ],
   "source": [
    "N = int(input())\n",
    "res = []\n",
    "for k in range(2, N+1):\n",
    "    prime = True\n",
    "    for i in range(2, k):\n",
    "        if k%i == 0:\n",
    "            prime = False\n",
    "            break\n",
    "    if prime:\n",
    "        res.append(k)\n",
    "print(res)"
   ]
  },
  {
   "cell_type": "markdown",
   "metadata": {},
   "source": [
    "# Задача 24"
   ]
  },
  {
   "cell_type": "code",
   "execution_count": 42,
   "metadata": {},
   "outputs": [
    {
     "name": "stdout",
     "output_type": "stream",
     "text": [
      "3 2\n",
      "2 1 2 3\n",
      "1 2 3 2\n",
      "3 2 1\n"
     ]
    }
   ],
   "source": [
    "import itertools\n",
    "import functools\n",
    "print(*(tuple([[[0]]]) + tuple(*map(lambda data: filter(lambda x: tuple(x[0]) == x[1],\n",
    "map(lambda var: (filter(lambda sta: ((var.index(sta[0]) >= var.index(sta[1])) ^ (var.index(sta[2]) >= var.index(sta[3]))), data[1]), data[1], var + data[2]), data[0])), map(lambda x: (itertools.permutations(set(functools.reduce(lambda x,y: x + y ,x[1]))), x[1], tuple(set(range(1, x[0] + 1)) - set(functools.reduce(lambda x,y: x + y ,x[1])))), map(lambda vvod: (next(vvod), tuple(set(map(lambda y: tuple(y), map(lambda x: map(int, input().split()), range(next(vvod))))))), [map(int, input().split())])))))[-1][-1])"
   ]
  }
 ],
 "metadata": {
  "kernelspec": {
   "display_name": "Python 3",
   "language": "python",
   "name": "python3"
  },
  "language_info": {
   "codemirror_mode": {
    "name": "ipython",
    "version": 3
   },
   "file_extension": ".py",
   "mimetype": "text/x-python",
   "name": "python",
   "nbconvert_exporter": "python",
   "pygments_lexer": "ipython3",
   "version": "3.7.6"
  }
 },
 "nbformat": 4,
 "nbformat_minor": 4
}
