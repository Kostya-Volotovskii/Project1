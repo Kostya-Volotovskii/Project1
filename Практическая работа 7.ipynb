{
 "cells": [
  {
   "cell_type": "markdown",
   "metadata": {},
   "source": [
    "# Задача 1"
   ]
  },
  {
   "cell_type": "code",
   "execution_count": 5,
   "metadata": {},
   "outputs": [
    {
     "name": "stdout",
     "output_type": "stream",
     "text": [
      "4\n",
      "5\n",
      "6\n",
      "7\n",
      "4\n"
     ]
    }
   ],
   "source": [
    "def min4(a,b,c,d):\n",
    "    return(min(a,b,c,d))\n",
    "a=int(input())\n",
    "b=int(input())\n",
    "c=int(input())\n",
    "d=int(input())\n",
    "print(min4(a,b,c,d))"
   ]
  },
  {
   "cell_type": "markdown",
   "metadata": {},
   "source": [
    "# Задача 2"
   ]
  },
  {
   "cell_type": "code",
   "execution_count": 4,
   "metadata": {},
   "outputs": [
    {
     "name": "stdout",
     "output_type": "stream",
     "text": [
      "0\n",
      "0\n",
      "1\n",
      "1\n",
      "1.41421\n"
     ]
    }
   ],
   "source": [
    "from math import sqrt\n",
    "def distance(x1, y1, x2, y2):\n",
    "    return sqrt((x1 - x2) ** 2 + (y1 - y2) ** 2)\n",
    "x1=int(input())\n",
    "y1=int(input())\n",
    "x2=int(input())\n",
    "y2=int(input())\n",
    "print(round(distance(x1, y1, x2, y2),5))"
   ]
  },
  {
   "cell_type": "markdown",
   "metadata": {},
   "source": [
    "# Задача 3"
   ]
  },
  {
   "cell_type": "code",
   "execution_count": 10,
   "metadata": {},
   "outputs": [
    {
     "name": "stdout",
     "output_type": "stream",
     "text": [
      "0\n",
      "0\n",
      "1\n",
      "0\n",
      "0\n",
      "1\n",
      "3.4142135624\n"
     ]
    }
   ],
   "source": [
    "from math import sqrt\n",
    "def lenot(x1,y1,x2,y2):\n",
    "    return sqrt((x2-x1)**2 + (y2-y1)**2)\n",
    "x1=int(input())\n",
    "y1=int(input())\n",
    "x2=int(input())\n",
    "y2=int(input())\n",
    "x3=int(input())\n",
    "y3=int(input())\n",
    "AB=lenot(x1,y1,x2,y2)\n",
    "BC=lenot(x2,y2,x3,y3)\n",
    "AC=lenot(x1,y1,x3,y3)\n",
    "P=AB+BC+AC\n",
    "print(round(P,10))"
   ]
  },
  {
   "cell_type": "markdown",
   "metadata": {},
   "source": [
    "# Задача 4"
   ]
  },
  {
   "cell_type": "code",
   "execution_count": 18,
   "metadata": {},
   "outputs": [
    {
     "name": "stdout",
     "output_type": "stream",
     "text": [
      "0.5\n",
      "0.5\n",
      "YES\n"
     ]
    }
   ],
   "source": [
    "def IsPointInSquare(x:float, y:float):\n",
    "    return (1 >= x**2) and (1 >= y**2)\n",
    "x=float(input())\n",
    "y=float(input())\n",
    "print(\"YES\" if IsPointInSquare(x, y) else \"NO\")"
   ]
  },
  {
   "cell_type": "markdown",
   "metadata": {},
   "source": [
    "# Задача 5"
   ]
  },
  {
   "cell_type": "code",
   "execution_count": 27,
   "metadata": {},
   "outputs": [
    {
     "name": "stdout",
     "output_type": "stream",
     "text": [
      "-1\n",
      "-1\n",
      "NO\n"
     ]
    }
   ],
   "source": [
    "def IsPointInSquare(x:float, y:float):\n",
    "    return (x+y<=1) and (-1<=x+y)\n",
    "x=float(input())\n",
    "y=float(input())\n",
    "print(\"YES\" if IsPointInSquare(x, y) else \"NO\")"
   ]
  },
  {
   "cell_type": "markdown",
   "metadata": {},
   "source": [
    "# Задача 6"
   ]
  },
  {
   "cell_type": "code",
   "execution_count": 29,
   "metadata": {},
   "outputs": [
    {
     "name": "stdout",
     "output_type": "stream",
     "text": [
      "0.5\n",
      "0.5\n",
      "0\n",
      "0\n",
      "1\n",
      "YES\n"
     ]
    }
   ],
   "source": [
    "def IsPointInCircle(x,y,xc,yc,r):\n",
    "    return (x - xc) * (x - xc) + (y - yc) * (y - yc) <= r * r\n",
    " \n",
    "if __name__ == '__main__':\n",
    "    x=float(input())\n",
    "    y=float(input())\n",
    "    xc=float(input())\n",
    "    yc=float(input())\n",
    "    r=float(input())\n",
    "    IsPointInCircle(x,y,xc,yc,r)\n",
    "    if IsPointInCircle(x, y, xc, yc, r):\n",
    "        print(\"YES\")\n",
    "    else:\n",
    "        print(\"NO\")"
   ]
  },
  {
   "cell_type": "markdown",
   "metadata": {},
   "source": [
    "# Задача 7"
   ]
  },
  {
   "cell_type": "code",
   "execution_count": 7,
   "metadata": {},
   "outputs": [
    {
     "name": "stdout",
     "output_type": "stream",
     "text": [
      "-4\n",
      "-4\n",
      "NO\n"
     ]
    }
   ],
   "source": [
    "def IsPointInArea(x,y):\n",
    "    in_circle = 2 * 2 >= abs(x + 1) * abs(x + 1) + abs(y - 1) * abs(y - 1)\n",
    "    above_line1 = y >= 2 * x + 2\n",
    "    above_line2 = y >= -x\n",
    "    below_line1 = y <= 2 * x + 2\n",
    "    below_line2 = y <= -x\n",
    "    on_circle = 2 * 2 == abs(x + 1) * abs(x + 1) + abs(y - 1) * abs(y - 1)\n",
    "    return in_circle and above_line1 and above_line2 or (on_circle or not in_circle) and below_line1 and below_line2\n",
    "\n",
    "x=float(input())\n",
    "y=float(input())\n",
    "if (IsPointInArea(x, y)):\n",
    "    print(\"YES\")\n",
    "else: \n",
    "    print(\"NO\")"
   ]
  },
  {
   "cell_type": "markdown",
   "metadata": {},
   "source": [
    "# Задача 8"
   ]
  },
  {
   "cell_type": "code",
   "execution_count": 11,
   "metadata": {},
   "outputs": [
    {
     "name": "stdout",
     "output_type": "stream",
     "text": [
      "1\n",
      "0\n",
      "1\n"
     ]
    }
   ],
   "source": [
    "def xor(x, y):\n",
    "    return x != y\n",
    "x=int(input())\n",
    "y=int(input())\n",
    "print(int(xor(x, y)))"
   ]
  },
  {
   "cell_type": "markdown",
   "metadata": {},
   "source": [
    "# Задача 9"
   ]
  },
  {
   "cell_type": "code",
   "execution_count": 23,
   "metadata": {},
   "outputs": [
    {
     "name": "stdout",
     "output_type": "stream",
     "text": [
      "5\n",
      "5\n"
     ]
    }
   ],
   "source": [
    "def MinDivisor(n):\n",
    "    i=2\n",
    "    while i!=n+1:\n",
    "        if n%i==0:\n",
    "            res=i\n",
    "            return (res)\n",
    "            break\n",
    "        else:\n",
    "            i+=1\n",
    "n=int(input())\n",
    "if n>1:\n",
    "    print(MinDivisor(n))"
   ]
  },
  {
   "cell_type": "markdown",
   "metadata": {},
   "source": [
    "# Задача 10"
   ]
  },
  {
   "cell_type": "code",
   "execution_count": 33,
   "metadata": {},
   "outputs": [
    {
     "name": "stdout",
     "output_type": "stream",
     "text": [
      "4\n",
      "NO\n"
     ]
    }
   ],
   "source": [
    "def Isprime(n):\n",
    "    i = 2\n",
    "    j = 0\n",
    "    while (True):\n",
    "        if(i*i <= n and j != 1):\n",
    "            if(n % i == 0):\n",
    "                j=j+1\n",
    "            i=i+1\n",
    "        elif(j==1):\n",
    "            return False\n",
    "        else:\n",
    "            return True\n",
    "n=int(input())\n",
    "if (Isprime(n)):\n",
    "    print('YES')\n",
    "else:\n",
    "    print('NO')"
   ]
  },
  {
   "cell_type": "markdown",
   "metadata": {},
   "source": [
    "# Задача 11"
   ]
  },
  {
   "cell_type": "code",
   "execution_count": 39,
   "metadata": {},
   "outputs": [
    {
     "name": "stdout",
     "output_type": "stream",
     "text": [
      "2\n",
      "3\n",
      "8\n"
     ]
    }
   ],
   "source": [
    "def power(a, n):\n",
    "    if n == 0:\n",
    "        return 1\n",
    "    else:\n",
    "        return a * power(a, n - 1)\n",
    "\n",
    "print(int(power(float(input()), int(input()))))"
   ]
  },
  {
   "cell_type": "markdown",
   "metadata": {},
   "source": [
    "# Задача 12"
   ]
  },
  {
   "cell_type": "code",
   "execution_count": 43,
   "metadata": {},
   "outputs": [
    {
     "name": "stdout",
     "output_type": "stream",
     "text": [
      "2\n",
      "3\n",
      "8\n"
     ]
    }
   ],
   "source": [
    "def power(a, n):\n",
    "    res = 1\n",
    "    for i in range(abs(n)):\n",
    "        res *= a\n",
    "    if n >= 0:\n",
    "        return res\n",
    "    else:\n",
    "        return 1 / res\n",
    "\n",
    "print(int(power(float(input()), int(input()))))"
   ]
  },
  {
   "cell_type": "markdown",
   "metadata": {},
   "source": [
    "# Задача 13"
   ]
  },
  {
   "cell_type": "code",
   "execution_count": 49,
   "metadata": {},
   "outputs": [
    {
     "name": "stdout",
     "output_type": "stream",
     "text": [
      "123\n",
      "456\n",
      "579\n"
     ]
    }
   ],
   "source": [
    "def summa(a, b):\n",
    "    if a == 0:\n",
    "        return b;\n",
    "    return summa(a-1, b+1)\n",
    "a=int(input())\n",
    "b=int(input())\n",
    "print(summa(a,b))"
   ]
  },
  {
   "cell_type": "markdown",
   "metadata": {},
   "source": [
    "# Задача 14"
   ]
  },
  {
   "cell_type": "code",
   "execution_count": 52,
   "metadata": {},
   "outputs": [
    {
     "name": "stdout",
     "output_type": "stream",
     "text": [
      "2\n",
      "3\n",
      "8\n"
     ]
    }
   ],
   "source": [
    "def power(a, n):\n",
    "    if n == 0:\n",
    "        return 1\n",
    "    elif n == 1:\n",
    "        return a\n",
    "    elif n % 2 != 0:\n",
    "        return a * power(a, n-1)\n",
    "    elif n % 2 == 0:\n",
    "        return power(a*a, n/2) \n",
    "\n",
    "a = float(input())\n",
    "n = int(input())\n",
    "print(int(power(a, n)))"
   ]
  },
  {
   "cell_type": "markdown",
   "metadata": {},
   "source": [
    "# Задача 15"
   ]
  },
  {
   "cell_type": "code",
   "execution_count": 57,
   "metadata": {},
   "outputs": [
    {
     "name": "stdout",
     "output_type": "stream",
     "text": [
      "2\n",
      "2\n",
      "2\n"
     ]
    }
   ],
   "source": [
    "def gcd(a,b):\n",
    "    if (b == 0):\n",
    "        return a\n",
    "    return gcd(b, a % b)\n",
    "a = int(input())\n",
    "b = int(input())\n",
    "print(gcd(a,b))"
   ]
  },
  {
   "cell_type": "markdown",
   "metadata": {},
   "source": [
    "# Задача 16"
   ]
  },
  {
   "cell_type": "code",
   "execution_count": 71,
   "metadata": {},
   "outputs": [
    {
     "name": "stdout",
     "output_type": "stream",
     "text": [
      "10\n",
      "100\n",
      "1 10\n"
     ]
    }
   ],
   "source": [
    "def ReduceFraction(n, m):\n",
    "    p1 = max(n, m)\n",
    "    p2 = min(n, m)\n",
    "    if p1 == p2 and p1 * p2 != 0:\n",
    "        return 1, 1\n",
    "    else:\n",
    "        p = p1 % p2\n",
    "        while p>0:\n",
    "            p1 = p2\n",
    "            p2 = p\n",
    "            p = p1 % p2\n",
    "        return n // p2, m // p2\n",
    "n = int(input())\n",
    "m = int(input())\n",
    "print(*ReduceFraction(n, m))"
   ]
  },
  {
   "cell_type": "markdown",
   "metadata": {},
   "source": [
    "# Задача 17"
   ]
  },
  {
   "cell_type": "code",
   "execution_count": 75,
   "metadata": {},
   "outputs": [
    {
     "name": "stdout",
     "output_type": "stream",
     "text": [
      "3\n",
      "2\n"
     ]
    }
   ],
   "source": [
    "def fib(n):\n",
    "    if n == 1 or n == 2:\n",
    "        return 1\n",
    "    else:\n",
    "        return fib(n - 1) + fib(n - 2)\n",
    "print(fib(int(input())))"
   ]
  },
  {
   "cell_type": "markdown",
   "metadata": {},
   "source": [
    "# Задача 18"
   ]
  },
  {
   "cell_type": "code",
   "execution_count": 80,
   "metadata": {},
   "outputs": [
    {
     "name": "stdout",
     "output_type": "stream",
     "text": [
      "4\n",
      "1\n",
      "4\n"
     ]
    }
   ],
   "source": [
    "def C(n, k):\n",
    "    if (k == 0 or k == n):\n",
    "        return 1\n",
    "    else:\n",
    "        return C(n - 1, k - 1) + C(n - 1, k)\n",
    "n=int(input())\n",
    "k=int(input())\n",
    "print(C(n, k))"
   ]
  },
  {
   "cell_type": "markdown",
   "metadata": {},
   "source": [
    "# Задача 19"
   ]
  },
  {
   "cell_type": "code",
   "execution_count": 82,
   "metadata": {},
   "outputs": [
    {
     "name": "stdout",
     "output_type": "stream",
     "text": [
      "1\n",
      "7\n",
      "9\n",
      "0\n",
      "17\n"
     ]
    }
   ],
   "source": [
    "def summa():\n",
    "    n = int(input())\n",
    "    if n == 0:\n",
    "        return 0\n",
    "    return n + summa()\n",
    "    \n",
    "print(summa())"
   ]
  },
  {
   "cell_type": "markdown",
   "metadata": {},
   "source": [
    "# Задача 20"
   ]
  },
  {
   "cell_type": "code",
   "execution_count": 86,
   "metadata": {},
   "outputs": [
    {
     "name": "stdout",
     "output_type": "stream",
     "text": [
      "8\n",
      "7\n",
      "2\n",
      "3\n",
      "1\n",
      "4\n",
      "5\n",
      "0\n",
      "0\n",
      "5\n",
      "4\n",
      "1\n",
      "3\n",
      "2\n",
      "7\n",
      "8\n"
     ]
    }
   ],
   "source": [
    "def recur():\n",
    "    x = int(input())\n",
    "    if x != 0:\n",
    "        recur()\n",
    "    print(x)\n",
    "\n",
    "recur()"
   ]
  },
  {
   "cell_type": "markdown",
   "metadata": {},
   "source": [
    "# Задача 21"
   ]
  },
  {
   "cell_type": "code",
   "execution_count": 23,
   "metadata": {},
   "outputs": [
    {
     "name": "stdout",
     "output_type": "stream",
     "text": [
      "3\n",
      "1 1 3\n",
      "2 1 2\n",
      "1 3 2\n",
      "3 1 3\n",
      "1 2 1\n",
      "2 2 3\n",
      "1 1 3\n"
     ]
    }
   ],
   "source": [
    "def softF(n, x, y):\n",
    "    if n==1:\n",
    "        print(1,x,y)\n",
    "    else:\n",
    "        softF(n-1,x,6-x-y)\n",
    "        print(n,x,y)\n",
    "        softF(n-1,6-x-y,y)\n",
    "\n",
    "n=int(input())\n",
    "softF(n,1,3)"
   ]
  },
  {
   "cell_type": "markdown",
   "metadata": {},
   "source": [
    "# Задача 22"
   ]
  },
  {
   "cell_type": "code",
   "execution_count": 26,
   "metadata": {},
   "outputs": [
    {
     "name": "stdout",
     "output_type": "stream",
     "text": [
      "4\n",
      "2\n"
     ]
    }
   ],
   "source": [
    "def lagrange(n):\n",
    "    for i in range(4):\n",
    "        s = int(n ** 0.5)\n",
    "        n = n - s ** 2\n",
    "        if s != 0:\n",
    "            print(s)\n",
    "n = int(input())\n",
    "lagrange(n)"
   ]
  },
  {
   "cell_type": "markdown",
   "metadata": {},
   "source": [
    "# Задача 23"
   ]
  },
  {
   "cell_type": "code",
   "execution_count": 1,
   "metadata": {},
   "outputs": [
    {
     "name": "stdout",
     "output_type": "stream",
     "text": [
      "9\n",
      "8 1\n"
     ]
    }
   ],
   "source": [
    "from math import *\n",
    "\n",
    "\n",
    "def prog(n, a, t):\n",
    "    c = n\n",
    "    d = t\n",
    "    while c > 0:\n",
    "        if d > 0:\n",
    "            x = trunc(float('{0:.11f}'.format((c ** (1 / 3))))) - 1\n",
    "            d -= 1\n",
    "        else:\n",
    "            x = trunc(float('{0:.11f}'.format((c ** (1 / 3)))))\n",
    "        if x <= 1:\n",
    "            x = trunc(float('{0:.11f}'.format((c ** (1 / 3)))))\n",
    "        if d > x:\n",
    "            print(0)\n",
    "            exit(0)\n",
    "        a.append(x ** 3)\n",
    "        c -= x ** 3\n",
    "        if len(a) > 7:\n",
    "            a.clear()\n",
    "            prog(n, a, t + 1)\n",
    "    print(*a)\n",
    "    exit(0)\n",
    "\n",
    "\n",
    "a = []\n",
    "n = int(input())\n",
    "t = 0\n",
    "prog(n, a, t)"
   ]
  },
  {
   "cell_type": "markdown",
   "metadata": {},
   "source": [
    "# Задача 24"
   ]
  },
  {
   "cell_type": "code",
   "execution_count": 4,
   "metadata": {},
   "outputs": [
    {
     "name": "stdout",
     "output_type": "stream",
     "text": [
      "3\n",
      "5\n",
      "0\n",
      "0\n"
     ]
    }
   ],
   "source": [
    "def x2():\n",
    "    n = int(input())\n",
    "    if n != 0:\n",
    "        x2()\n",
    "        if (n ** (1 / 2)).is_integer():\n",
    "            global t\n",
    "            t = 0\n",
    "            print(n, end=' ')\n",
    "t = 1\n",
    "x2()\n",
    "if t:\n",
    "    print(0)"
   ]
  }
 ],
 "metadata": {
  "kernelspec": {
   "display_name": "Python 3",
   "language": "python",
   "name": "python3"
  },
  "language_info": {
   "codemirror_mode": {
    "name": "ipython",
    "version": 3
   },
   "file_extension": ".py",
   "mimetype": "text/x-python",
   "name": "python",
   "nbconvert_exporter": "python",
   "pygments_lexer": "ipython3",
   "version": "3.7.6"
  }
 },
 "nbformat": 4,
 "nbformat_minor": 4
}
