{
 "cells": [
  {
   "cell_type": "markdown",
   "metadata": {},
   "source": [
    "# Задача 1"
   ]
  },
  {
   "cell_type": "code",
   "execution_count": 1,
   "metadata": {},
   "outputs": [
    {
     "name": "stdout",
     "output_type": "stream",
     "text": [
      "9\n",
      "1 4 9 "
     ]
    }
   ],
   "source": [
    "N=int(input())\n",
    "w=0\n",
    "q=1\n",
    "while N >= w:\n",
    "    w=q**2\n",
    "    q+=1\n",
    "    if N>=w:\n",
    "        print(w, end=\" \")"
   ]
  },
  {
   "cell_type": "markdown",
   "metadata": {},
   "source": [
    "# Задача 2"
   ]
  },
  {
   "cell_type": "code",
   "execution_count": 2,
   "metadata": {},
   "outputs": [
    {
     "name": "stdout",
     "output_type": "stream",
     "text": [
      "15\n",
      "3\n"
     ]
    }
   ],
   "source": [
    "N=int(input())\n",
    "w=2\n",
    "while N%w!=0:\n",
    "    w+=1\n",
    "print(w)"
   ]
  },
  {
   "cell_type": "markdown",
   "metadata": {},
   "source": [
    "# Задача 3"
   ]
  },
  {
   "cell_type": "code",
   "execution_count": 11,
   "metadata": {},
   "outputs": [
    {
     "name": "stdout",
     "output_type": "stream",
     "text": [
      "50\n",
      "1 2 4 8 16 32 "
     ]
    }
   ],
   "source": [
    "N=int(input())\n",
    "w=0.5\n",
    "q=1\n",
    "while N >= w:\n",
    "    w=w*2\n",
    "    if N>=w:\n",
    "        print(int(w), end=\" \")"
   ]
  },
  {
   "cell_type": "markdown",
   "metadata": {},
   "source": [
    "# Задача 4"
   ]
  },
  {
   "cell_type": "code",
   "execution_count": 22,
   "metadata": {},
   "outputs": [
    {
     "name": "stdout",
     "output_type": "stream",
     "text": [
      "3\n",
      "No\n"
     ]
    }
   ],
   "source": [
    "N=int(input())\n",
    "w=1\n",
    "q = False\n",
    "if N%2==0:\n",
    "    while N >= w:\n",
    "        w=w*2\n",
    "        if N==w:\n",
    "            print(\"Yes\")\n",
    "            q = True\n",
    "    if q == False:\n",
    "        print(\"NO\")\n",
    "elif N==1:\n",
    "    print(\"Yes\")\n",
    "else:\n",
    "    print(\"No\") "
   ]
  },
  {
   "cell_type": "markdown",
   "metadata": {},
   "source": [
    "# Задача 5"
   ]
  },
  {
   "cell_type": "code",
   "execution_count": 25,
   "metadata": {},
   "outputs": [
    {
     "name": "stdout",
     "output_type": "stream",
     "text": [
      "3\n",
      "2\n"
     ]
    }
   ],
   "source": [
    "N = int(input())\n",
    "k = 0\n",
    "result = 1\n",
    "while result < N:\n",
    "    result *= 2\n",
    "    k += 1\n",
    "print(k)"
   ]
  },
  {
   "cell_type": "markdown",
   "metadata": {},
   "source": [
    "# Задача 6"
   ]
  },
  {
   "cell_type": "code",
   "execution_count": 29,
   "metadata": {},
   "outputs": [
    {
     "name": "stdout",
     "output_type": "stream",
     "text": [
      "10\n",
      "100\n",
      "26\n"
     ]
    }
   ],
   "source": [
    "X=int(input())\n",
    "Y=int(input())\n",
    "day=0\n",
    "while X < Y:\n",
    "    X = X + X*0.1\n",
    "    day+=1\n",
    "print(day+1)"
   ]
  },
  {
   "cell_type": "markdown",
   "metadata": {},
   "source": [
    "# Задача 7"
   ]
  },
  {
   "cell_type": "code",
   "execution_count": 32,
   "metadata": {},
   "outputs": [
    {
     "name": "stdout",
     "output_type": "stream",
     "text": [
      "1\n",
      "2\n",
      "3\n",
      "0\n",
      "3\n"
     ]
    }
   ],
   "source": [
    "max = 0\n",
    "number = -1\n",
    "while number != 0:\n",
    "    number = int(input())\n",
    "    if number > max:\n",
    "        max = number\n",
    "print(max)"
   ]
  },
  {
   "cell_type": "markdown",
   "metadata": {},
   "source": [
    "# Задача 8"
   ]
  },
  {
   "cell_type": "code",
   "execution_count": 7,
   "metadata": {},
   "outputs": [
    {
     "name": "stdout",
     "output_type": "stream",
     "text": [
      "3\n",
      "14\n"
     ]
    }
   ],
   "source": [
    "n = int(input())\n",
    "sum = 0\n",
    "for i in range(1, n + 1):\n",
    "    sum += i ** 2\n",
    "print(sum)"
   ]
  },
  {
   "cell_type": "markdown",
   "metadata": {},
   "source": [
    "# Задача 9"
   ]
  },
  {
   "cell_type": "code",
   "execution_count": 1,
   "metadata": {},
   "outputs": [
    {
     "name": "stdout",
     "output_type": "stream",
     "text": [
      "1\n",
      "7\n",
      "9\n",
      "0\n",
      "5\n",
      "3\n"
     ]
    }
   ],
   "source": [
    "len = 0\n",
    "while int(input()) != 0:\n",
    "    len += 1\n",
    "Q=int(input())\n",
    "print(len)"
   ]
  },
  {
   "cell_type": "markdown",
   "metadata": {},
   "source": [
    "# Задача 10"
   ]
  },
  {
   "cell_type": "code",
   "execution_count": 10,
   "metadata": {},
   "outputs": [
    {
     "name": "stdout",
     "output_type": "stream",
     "text": [
      "1\n",
      "7\n",
      "9\n",
      "0\n",
      "17\n"
     ]
    }
   ],
   "source": [
    "max = 0\n",
    "number = -1\n",
    "while number != 0:\n",
    "    number = int(input())\n",
    "    max+=number\n",
    "print(max)"
   ]
  },
  {
   "cell_type": "markdown",
   "metadata": {},
   "source": [
    "# Задача 11"
   ]
  },
  {
   "cell_type": "code",
   "execution_count": 14,
   "metadata": {},
   "outputs": [
    {
     "name": "stdout",
     "output_type": "stream",
     "text": [
      "1\n",
      "7\n",
      "9\n",
      "0\n",
      "5.666666666666667\n"
     ]
    }
   ],
   "source": [
    "max = 0\n",
    "len = 0\n",
    "number = -1\n",
    "while number != 0:\n",
    "    number = int(input())\n",
    "    max+=number\n",
    "    len += 1\n",
    "print(max/(len-1))"
   ]
  },
  {
   "cell_type": "markdown",
   "metadata": {},
   "source": [
    "# Задача 12"
   ]
  },
  {
   "cell_type": "code",
   "execution_count": 6,
   "metadata": {},
   "outputs": [
    {
     "name": "stdout",
     "output_type": "stream",
     "text": [
      "1\n",
      "3\n",
      "5\n",
      "7\n",
      "9\n",
      "1\n",
      "3\n",
      "5\n",
      "7\n",
      "9\n",
      "0\n",
      "0\n"
     ]
    }
   ],
   "source": [
    "max = 0\n",
    "len = 0\n",
    "number = -1\n",
    "while number != 0:\n",
    "    number = int(input())\n",
    "    if number%2==0:\n",
    "        if number!=0:\n",
    "            len+=1\n",
    "print(len)"
   ]
  },
  {
   "cell_type": "markdown",
   "metadata": {},
   "source": [
    "# Задача 13"
   ]
  },
  {
   "cell_type": "code",
   "execution_count": 8,
   "metadata": {},
   "outputs": [
    {
     "name": "stdout",
     "output_type": "stream",
     "text": [
      "1\n",
      "5\n",
      "2\n",
      "4\n",
      "3\n",
      "0\n",
      "2\n"
     ]
    }
   ],
   "source": [
    "max = 0\n",
    "len = 0\n",
    "q=0\n",
    "number = -1\n",
    "while number != 0:\n",
    "    number = int(input())\n",
    "    if number > q:\n",
    "        len+=1\n",
    "    q=number\n",
    "print(len-1)"
   ]
  },
  {
   "cell_type": "markdown",
   "metadata": {},
   "source": [
    "# Задача 14"
   ]
  },
  {
   "cell_type": "code",
   "execution_count": 14,
   "metadata": {},
   "outputs": [
    {
     "name": "stdout",
     "output_type": "stream",
     "text": [
      "2\n",
      "1\n",
      "0\n",
      "1\n"
     ]
    }
   ],
   "source": [
    "max1 = int(input())\n",
    "num = int(input())\n",
    "max2 = num\n",
    "while num != 0:\n",
    "    if num >= max1:\n",
    "        max2, max1 = max1, num\n",
    "    elif max2 < num <= max1:\n",
    "        max2 = num\n",
    "    num = int(input())\n",
    "print(max2)"
   ]
  },
  {
   "cell_type": "markdown",
   "metadata": {},
   "source": [
    "# Задача 15"
   ]
  },
  {
   "cell_type": "code",
   "execution_count": 15,
   "metadata": {},
   "outputs": [
    {
     "name": "stdout",
     "output_type": "stream",
     "text": [
      "1\n",
      "3\n",
      "3\n",
      "1\n",
      "0\n",
      "2\n"
     ]
    }
   ],
   "source": [
    "max = 0\n",
    "nMax = 0\n",
    "number = -1\n",
    "while number != 0:\n",
    "    number = int(input())\n",
    "    if number > max:\n",
    "        max, nMax = number, 1\n",
    "    elif number == max:\n",
    "        nMax += 1       \n",
    "print(nMax)"
   ]
  },
  {
   "cell_type": "markdown",
   "metadata": {},
   "source": [
    "# Задача 16"
   ]
  },
  {
   "cell_type": "code",
   "execution_count": 8,
   "metadata": {},
   "outputs": [
    {
     "name": "stdout",
     "output_type": "stream",
     "text": [
      "3\n",
      "2\n"
     ]
    }
   ],
   "source": [
    "n = int(input())\n",
    "if n == 0:\n",
    "    print(0)\n",
    "else:\n",
    "    a, b = 0, 1\n",
    "    for i in range(2, n + 1):\n",
    "        a, b = b, a + b\n",
    "    print(b)"
   ]
  },
  {
   "cell_type": "markdown",
   "metadata": {},
   "source": [
    "# Задача 17"
   ]
  },
  {
   "cell_type": "code",
   "execution_count": 19,
   "metadata": {},
   "outputs": [
    {
     "name": "stdout",
     "output_type": "stream",
     "text": [
      "13\n",
      "7\n"
     ]
    }
   ],
   "source": [
    "a = int(input())\n",
    "if a == 0:\n",
    "    print(0)\n",
    "else:\n",
    "    Q=0\n",
    "    W =1\n",
    "    n = 1\n",
    "    while W <= a:\n",
    "        if W == a:\n",
    "            print(n)\n",
    "            break\n",
    "        Q, W = W, Q + W\n",
    "        n += 1\n",
    "    else:\n",
    "        print(-1)"
   ]
  },
  {
   "cell_type": "markdown",
   "metadata": {},
   "source": [
    "# Задача 18"
   ]
  },
  {
   "cell_type": "code",
   "execution_count": 25,
   "metadata": {},
   "outputs": [
    {
     "name": "stdout",
     "output_type": "stream",
     "text": [
      "179\n",
      "20\n",
      "-1\n",
      ":2\n",
      "-1\n",
      ":2\n",
      ":2\n",
      "-1\n",
      "-1\n"
     ]
    }
   ],
   "source": [
    "a = int (input ())\n",
    "b = int (input ())\n",
    "while a!=b:\n",
    "    if (a/2>=b) and (a%2 == 0):\n",
    "        print (':2')\n",
    "        a//=2\n",
    "    else:\n",
    "        print ('-1')\n",
    "        a-=1"
   ]
  },
  {
   "cell_type": "markdown",
   "metadata": {},
   "source": [
    "# Задача 19"
   ]
  },
  {
   "cell_type": "code",
   "execution_count": 6,
   "metadata": {},
   "outputs": [
    {
     "name": "stdout",
     "output_type": "stream",
     "text": [
      "874\n",
      "478\n"
     ]
    }
   ],
   "source": [
    "n = int(input())\n",
    "n1 = 0\n",
    "n2 = 0\n",
    "while n > 0:\n",
    "    n2 = n % 10\n",
    "    n = n // 10\n",
    "    n1 = n1 * 10 + n2\n",
    "print(n1)"
   ]
  },
  {
   "cell_type": "markdown",
   "metadata": {},
   "source": [
    "# Задача 20"
   ]
  },
  {
   "cell_type": "code",
   "execution_count": 35,
   "metadata": {},
   "outputs": [
    {
     "name": "stdout",
     "output_type": "stream",
     "text": [
      "10\n",
      "9\n"
     ]
    }
   ],
   "source": [
    "K = int(input())\n",
    "pal = 0\n",
    "for i in range(1, K+1):\n",
    "    varia = str(i)\n",
    "    if varia == varia[::-1]:\n",
    "        pal += 1\n",
    "print(pal)"
   ]
  },
  {
   "cell_type": "markdown",
   "metadata": {},
   "source": [
    "# Задача 21"
   ]
  },
  {
   "cell_type": "code",
   "execution_count": 47,
   "metadata": {},
   "outputs": [
    {
     "name": "stdout",
     "output_type": "stream",
     "text": [
      "4\n",
      "4\n",
      "4\n",
      "4\n",
      "4\n",
      "4\n",
      "4\n",
      "4\n",
      "4\n",
      "4\n",
      "4\n",
      "4\n",
      "4\n",
      "4\n",
      "4\n",
      "0\n",
      "15\n"
     ]
    }
   ],
   "source": [
    "Q = -1\n",
    "varia = 0\n",
    "m = 0\n",
    "num = int(input())\n",
    "while num != 0:\n",
    "    if Q == num:\n",
    "        varia += 1\n",
    "    else:\n",
    "        Q = num\n",
    "        m = max(m, varia)\n",
    "        varia = 1\n",
    "    num = int(input())\n",
    "m = max(m, varia)\n",
    "print(m)"
   ]
  },
  {
   "cell_type": "markdown",
   "metadata": {},
   "source": [
    "# Задача 22"
   ]
  },
  {
   "cell_type": "code",
   "execution_count": 56,
   "metadata": {},
   "outputs": [
    {
     "name": "stdout",
     "output_type": "stream",
     "text": [
      "1\n",
      "7\n",
      "7\n",
      "9\n",
      "1\n",
      "0\n",
      "2\n"
     ]
    }
   ],
   "source": [
    "num1=int(input())\n",
    "num2=int(input())\n",
    "Max=1\n",
    "n=1\n",
    "while 0==0:\n",
    "    if num2==0 or num1==0:\n",
    "        break    \n",
    "    while num1>num2:\n",
    "        if num2==0:\n",
    "            break        \n",
    "        n+=1\n",
    "        if n>Max:\n",
    "            Max=n\n",
    "            num1=num2\n",
    "            num2=int(input())\n",
    "        else:\n",
    "            num1=num2\n",
    "            num2=int(input())\n",
    "    n=1\n",
    "    while num1<num2:\n",
    "        n+=1\n",
    "        if n>Max:\n",
    "            Max=n\n",
    "            num1=num2\n",
    "            num2=int(input())\n",
    "        else:\n",
    "            num1=num2\n",
    "            num2=int(input())\n",
    "    n=1\n",
    "    while num1==num2:\n",
    "        n=1\n",
    "        num1=num2\n",
    "        num2=int(input())\n",
    "print(Max)"
   ]
  },
  {
   "cell_type": "markdown",
   "metadata": {},
   "source": [
    "# Задача 23"
   ]
  },
  {
   "cell_type": "code",
   "execution_count": 1,
   "metadata": {},
   "outputs": [
    {
     "name": "stdout",
     "output_type": "stream",
     "text": [
      "1\n",
      "2\n",
      "1\n",
      "1\n",
      "2\n",
      "1\n",
      "2\n",
      "1\n",
      "0\n",
      "2\n"
     ]
    }
   ],
   "source": [
    "x = 1\n",
    "q = 1\n",
    "w = 0\n",
    "z = 0\n",
    "i = 0\n",
    "Max1 = 0\n",
    "Max2 = 0\n",
    "rass = 1000000\n",
    "while q != 0:\n",
    "    i += 1\n",
    "    z = w\n",
    "    w = q\n",
    "    q = int(input())\n",
    "    if i > 2 and w > q and w > z and q != 0:\n",
    "        Max2 = Max1\n",
    "        Max1 =  i\n",
    "        if (Max1 > 0) and (Max2 > 0) and (Max1 - Max2 < rass):\n",
    "            rass = Max1 - Max2\n",
    "if rass == 1000000: \n",
    "    rass = 0\n",
    "print(rass)"
   ]
  },
  {
   "cell_type": "markdown",
   "metadata": {},
   "source": [
    "# Задача 24"
   ]
  },
  {
   "cell_type": "code",
   "execution_count": 4,
   "metadata": {},
   "outputs": [
    {
     "name": "stdout",
     "output_type": "stream",
     "text": [
      "5\n",
      "12\n",
      "13\n",
      "30\n"
     ]
    }
   ],
   "source": [
    "import math\n",
    "A=int(input())\n",
    "B=int(input())\n",
    "C=int(input())\n",
    "if A > 0 and B > 0 and C > 0:\n",
    "    P=(A+B+C)//2\n",
    "    S=math.sqrt(P*(P-A)*(P-B)*(P-C))\n",
    "print(int(S))"
   ]
  }
 ],
 "metadata": {
  "kernelspec": {
   "display_name": "Python 3",
   "language": "python",
   "name": "python3"
  },
  "language_info": {
   "codemirror_mode": {
    "name": "ipython",
    "version": 3
   },
   "file_extension": ".py",
   "mimetype": "text/x-python",
   "name": "python",
   "nbconvert_exporter": "python",
   "pygments_lexer": "ipython3",
   "version": "3.7.6"
  }
 },
 "nbformat": 4,
 "nbformat_minor": 4
}
