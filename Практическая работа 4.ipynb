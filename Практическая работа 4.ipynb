{
 "cells": [
  {
   "cell_type": "markdown",
   "metadata": {},
   "source": [
    "# Задача 1"
   ]
  },
  {
   "cell_type": "code",
   "execution_count": 5,
   "metadata": {},
   "outputs": [
    {
     "name": "stdout",
     "output_type": "stream",
     "text": [
      "8\n",
      "5\n",
      "8\n"
     ]
    }
   ],
   "source": [
    "A = int(input())\n",
    "B = int(input())\n",
    "A1 = A // B\n",
    "A2 = A % B\n",
    "A3 = 0**(A - A2)\n",
    "B1 = B // A\n",
    "B2 = B % A\n",
    "B3 = 0**(B - B2)\n",
    "Max = A1 * B2 + A2 * B1 + B2 * A3 + A2 * B3 + A * A3**B3 * B3**A3\n",
    "print(Max)"
   ]
  },
  {
   "cell_type": "markdown",
   "metadata": {},
   "source": [
    "# Задача 2"
   ]
  },
  {
   "cell_type": "code",
   "execution_count": 10,
   "metadata": {},
   "outputs": [
    {
     "name": "stdout",
     "output_type": "stream",
     "text": [
      "1\n",
      "2\n",
      "2\n"
     ]
    }
   ],
   "source": [
    "A=int(input())\n",
    "B=int(input())\n",
    "if A > B:\n",
    "    print('1')\n",
    "elif A < B:\n",
    "    print('2')\n",
    "else:\n",
    "    print('0')"
   ]
  },
  {
   "cell_type": "markdown",
   "metadata": {},
   "source": [
    "# Задача 3"
   ]
  },
  {
   "cell_type": "code",
   "execution_count": 16,
   "metadata": {},
   "outputs": [
    {
     "name": "stdout",
     "output_type": "stream",
     "text": [
      "1\n",
      "2\n",
      "3\n",
      "3\n"
     ]
    }
   ],
   "source": [
    "a = int(input())\n",
    "b = int(input())\n",
    "c = int(input())\n",
    "if a > c or b > c:\n",
    "    if a > b:\n",
    "        print(a)\n",
    "    else:\n",
    "        print(b)\n",
    "else:\n",
    "    print(c)"
   ]
  },
  {
   "cell_type": "markdown",
   "metadata": {},
   "source": [
    "# Задача 4"
   ]
  },
  {
   "cell_type": "code",
   "execution_count": 23,
   "metadata": {},
   "outputs": [
    {
     "name": "stdout",
     "output_type": "stream",
     "text": [
      "4\n",
      "Yes\n"
     ]
    }
   ],
   "source": [
    "A=int(input())\n",
    "if A%4==0 and A%100!=0:\n",
    "    print(\"Yes\")\n",
    "elif A%400==0:\n",
    "    print(\"Yes\")\n",
    "else:\n",
    "    print(\"No\")"
   ]
  },
  {
   "cell_type": "markdown",
   "metadata": {},
   "source": [
    "# Задача 5"
   ]
  },
  {
   "cell_type": "code",
   "execution_count": 25,
   "metadata": {},
   "outputs": [
    {
     "name": "stdout",
     "output_type": "stream",
     "text": [
      "4\n",
      "4\n",
      "5\n",
      "5\n",
      "YES\n"
     ]
    }
   ],
   "source": [
    "a=int(input())\n",
    "b=int(input())\n",
    "c=int(input())\n",
    "d=int(input())\n",
    "if a==c-1 and b==d-1:\n",
    "    print ('YES')\n",
    "else:\n",
    "    print ('NO')"
   ]
  },
  {
   "cell_type": "markdown",
   "metadata": {},
   "source": [
    "# Задача 6"
   ]
  },
  {
   "cell_type": "code",
   "execution_count": 27,
   "metadata": {},
   "outputs": [
    {
     "name": "stdout",
     "output_type": "stream",
     "text": [
      "11\n",
      "15\n",
      "YES\n"
     ]
    }
   ],
   "source": [
    "x = int(input())\n",
    "\n",
    "y = int(input())\n",
    "\n",
    "if  y>=x:\n",
    "\n",
    "    p = y - x + 1\n",
    "\n",
    "    if x % p == 1  and y % p == 0:\n",
    "\n",
    "       print('YES')\n",
    "\n",
    "    else:\n",
    "\n",
    "       print('NO')"
   ]
  },
  {
   "cell_type": "markdown",
   "metadata": {},
   "source": [
    "# Задача 7"
   ]
  },
  {
   "cell_type": "code",
   "execution_count": 28,
   "metadata": {},
   "outputs": [
    {
     "name": "stdout",
     "output_type": "stream",
     "text": [
      "1\n",
      "1\n",
      "2\n",
      "2\n",
      "YES\n"
     ]
    }
   ],
   "source": [
    "x1 = int(input())\n",
    "y1 = int(input())\n",
    "x2 = int(input())\n",
    "y2 = int(input())\n",
    "if (x1 + y1 + x2 + y2) % 2 == 0:\n",
    "    print('YES')\n",
    "else:\n",
    "    print('NO')"
   ]
  },
  {
   "cell_type": "markdown",
   "metadata": {},
   "source": [
    "# Задача 8"
   ]
  },
  {
   "cell_type": "code",
   "execution_count": 34,
   "metadata": {},
   "outputs": [
    {
     "name": "stdout",
     "output_type": "stream",
     "text": [
      "2\n",
      "10\n",
      "7\n",
      "NO\n"
     ]
    }
   ],
   "source": [
    "n = int(input())\n",
    "m = int(input())\n",
    "k = int(input())\n",
    "if k < n * m and ((k % n == 0) or (k % m == 0)):\n",
    "    print('YES')\n",
    "else:\n",
    "    print('NO')"
   ]
  },
  {
   "cell_type": "markdown",
   "metadata": {},
   "source": [
    "# Задача 9"
   ]
  },
  {
   "cell_type": "code",
   "execution_count": 39,
   "metadata": {},
   "outputs": [
    {
     "name": "stdout",
     "output_type": "stream",
     "text": [
      "3\n",
      "3 korovy\n"
     ]
    }
   ],
   "source": [
    "n=int(input())\n",
    "K=n%10\n",
    "if n<100:\n",
    "    if (10 < n < 20) or k==0 or (K>=5 and K<=9):\n",
    "        print(f'{n} korov')\n",
    "    elif n==1:\n",
    "        print(f'{n} korova')\n",
    "    else:\n",
    "        print(f'{n} korovy')"
   ]
  },
  {
   "cell_type": "markdown",
   "metadata": {},
   "source": [
    "# Задача 10"
   ]
  },
  {
   "cell_type": "code",
   "execution_count": 52,
   "metadata": {},
   "outputs": [
    {
     "name": "stdout",
     "output_type": "stream",
     "text": [
      "3\n",
      "1\n"
     ]
    }
   ],
   "source": [
    "X=int(input())\n",
    "if X > 0:\n",
    "    print('1')\n",
    "elif X < 0:\n",
    "    print('-1')\n",
    "if X==0:\n",
    "    print('0')"
   ]
  },
  {
   "cell_type": "markdown",
   "metadata": {},
   "source": [
    "# Задача 11"
   ]
  },
  {
   "cell_type": "code",
   "execution_count": 55,
   "metadata": {},
   "outputs": [
    {
     "name": "stdout",
     "output_type": "stream",
     "text": [
      "3\n",
      "3\n",
      "5\n",
      "1\n",
      "YES\n"
     ]
    }
   ],
   "source": [
    "x1=int(input())\n",
    "y1=int(input())\n",
    "x2=int(input())\n",
    "y2=int(input())\n",
    "if (y1>0 and y2>0) or (y1<0 and y2<0):\n",
    "    if (x1>0 and x2>0) or (x1<0 and x2<0):\n",
    "        print('YES')\n",
    "    else:\n",
    "        print('NO')\n",
    "else:\n",
    "    print('NO')"
   ]
  },
  {
   "cell_type": "markdown",
   "metadata": {},
   "source": [
    "# Задача 12"
   ]
  },
  {
   "cell_type": "code",
   "execution_count": 59,
   "metadata": {},
   "outputs": [
    {
     "name": "stdout",
     "output_type": "stream",
     "text": [
      "1\n",
      "1\n",
      "8\n",
      "7\n",
      "NO\n"
     ]
    }
   ],
   "source": [
    "x1 = int(input())\n",
    "y1 = int(input())\n",
    "x2 = int(input())\n",
    "y2 = int(input())\n",
    "if y2 <= y1 or (x1 + y1) % 2 != (x2 + y2) % 2:\n",
    "    print('NO')\n",
    "else:\n",
    "    if x1 - (y2 - y1) <= x2 <= x1 + (y2 - y1):\n",
    "        print('YES')\n",
    "    else:\n",
    "        print('NO')"
   ]
  },
  {
   "cell_type": "markdown",
   "metadata": {},
   "source": [
    "# Задача 13"
   ]
  },
  {
   "cell_type": "code",
   "execution_count": 62,
   "metadata": {},
   "outputs": [
    {
     "name": "stdout",
     "output_type": "stream",
     "text": [
      "3\n",
      "5\n",
      "4\n",
      "rectangular\n"
     ]
    }
   ],
   "source": [
    "a = int(input())\n",
    "b = int(input())\n",
    "c = int(input())\n",
    "if (c**2 == a**2 + b**2) or (a**2 == b**2 + c**2) or (b**2 == a**2 + c**2):\n",
    "    print(\"rectangular\")\n",
    "elif (c**2 < a**2 + b**2) or (a**2 < b**2 + c**2) or (b**2 < a**2 + c**2):\n",
    "    print(\"acute\")\n",
    "elif (c**2 > a**2 + b**2) or (a**2 > b**2 + c**2) or (b**2 > a**2 + c**2):\n",
    "    print(\"obtuse \")\n",
    "else:\n",
    "    print(\"impossible\")"
   ]
  },
  {
   "cell_type": "markdown",
   "metadata": {},
   "source": [
    "# Задача 14"
   ]
  },
  {
   "cell_type": "code",
   "execution_count": 64,
   "metadata": {},
   "outputs": [
    {
     "name": "stdout",
     "output_type": "stream",
     "text": [
      "7\n",
      "7\n",
      "7\n",
      "NO\n"
     ]
    }
   ],
   "source": [
    "a = int(input())\n",
    "b = int(input())\n",
    "c = int(input())\n",
    "if a%2==0 or b%2==0 or c%2==0:\n",
    "    if a%2==1 or b%2==1 or c%2==1:\n",
    "        print(\"YES\")\n",
    "else:\n",
    "    print(\"NO\")"
   ]
  },
  {
   "cell_type": "markdown",
   "metadata": {},
   "source": [
    "# Задача 15"
   ]
  },
  {
   "cell_type": "code",
   "execution_count": 65,
   "metadata": {},
   "outputs": [
    {
     "name": "stdout",
     "output_type": "stream",
     "text": [
      "1\n",
      "2\n",
      "1\n",
      "1 1 2\n"
     ]
    }
   ],
   "source": [
    "a, b, c = int(input()), int(input()), int(input())\n",
    "if a > b:\n",
    "    a, b = b, a\n",
    "if b > c:\n",
    "    b, c = c, b\n",
    "if a > b:\n",
    "    a, b = b, a\n",
    "print(a, b, c)"
   ]
  },
  {
   "cell_type": "markdown",
   "metadata": {},
   "source": [
    "# Задача 16"
   ]
  },
  {
   "cell_type": "code",
   "execution_count": 68,
   "metadata": {},
   "outputs": [
    {
     "name": "stdout",
     "output_type": "stream",
     "text": [
      "1\n",
      "2\n",
      "3\n",
      "0\n"
     ]
    }
   ],
   "source": [
    "a, b, c = int(input()), int(input()), int(input())\n",
    "if a==b and b==c:\n",
    "    print('3')\n",
    "elif (a==b and b!=c) or (b==c and c!=a) or (a==c and c!=b):\n",
    "    print(\"2\")\n",
    "else:\n",
    "    print(\"0\")"
   ]
  },
  {
   "cell_type": "markdown",
   "metadata": {},
   "source": [
    "# Задача 17"
   ]
  },
  {
   "cell_type": "code",
   "execution_count": 71,
   "metadata": {},
   "outputs": [
    {
     "name": "stdout",
     "output_type": "stream",
     "text": [
      "2\n",
      "2\n",
      "2\n",
      "1\n",
      "1\n",
      "NO\n"
     ]
    }
   ],
   "source": [
    "a = int(input())\n",
    "b = int(input())\n",
    "c = int(input())\n",
    "d = int(input())\n",
    "e = int(input())\n",
    "if a <= d and b <= e or a <= e and b <= d:\n",
    "    print(\"YES\")\n",
    "elif c <= d and b <= e or c <= e and b <= d:\n",
    "    print(\"YES\")\n",
    "elif a <= d and c <= e or a <= e and c <= d:\n",
    "    print(\"YES\")\n",
    "else:\n",
    "    print(\"NO\")"
   ]
  },
  {
   "cell_type": "markdown",
   "metadata": {},
   "source": [
    "# Задача 18"
   ]
  },
  {
   "cell_type": "code",
   "execution_count": 73,
   "metadata": {},
   "outputs": [
    {
     "name": "stdout",
     "output_type": "stream",
     "text": [
      "2\n",
      "2\n",
      "3\n",
      "3\n",
      "2\n",
      "1\n",
      "The first box is larger than the second one\n"
     ]
    }
   ],
   "source": [
    "A1 = int(input())  # Box 1\n",
    "B1 = int(input())\n",
    "C1 = int(input())\n",
    "A2 = int(input())  # Box 2\n",
    "B2 = int(input())\n",
    "C2 = int(input())\n",
    "if ((A1 == A2 and B1 == B2 and C1 == C2) or\n",
    "        (A1 == A2 and B1 == C2 and C1 == B2) or\n",
    "        (A1 == C2 and B1 == A2 and C1 == B2) or\n",
    "        (A1 == B2 and B1 == A2 and C1 == C2) or\n",
    "        (A1 == B2 and B1 == C2 and C1 == A2) or\n",
    "        (A1 == C2 and B1 == B2 and C1 == A2)):\n",
    "    print('Boxes are equal')\n",
    "elif ((A1 <= A2 and B1 <= B2 and C1 <= C2) or\n",
    "        (A1 <= A2 and B1 <= C2 and C1 <= B2) or\n",
    "        (A1 <= C2 and B1 <= A2 and C1 <= B2) or\n",
    "        (A1 <= B2 and B1 <= A2 and C1 <= C2) or\n",
    "        (A1 <= B2 and B1 <= C2 and C1 <= A2) or\n",
    "        (A1 <= C2 and B1 <= B2 and C1 <= A2)):\n",
    "    print('The first box is smaller than the second one')\n",
    "elif ((A1 >= A2 and B1 >= B2 and C1 >= C2) or\n",
    "        (A1 >= A2 and B1 >= C2 and C1 >= B2) or\n",
    "        (A1 >= C2 and B1 >= A2 and C1 >= B2) or\n",
    "        (A1 >= B2 and B1 >= A2 and C1 >= C2) or\n",
    "        (A1 >= B2 and B1 >= C2 and C1 >= A2) or\n",
    "        (A1 >= C2 and B1 >= B2 and C1 >= A2)):\n",
    "    print('The first box is larger than the second one')\n",
    "else:\n",
    "    print('Boxes are incomparable')"
   ]
  },
  {
   "cell_type": "markdown",
   "metadata": {},
   "source": [
    "# Задача 19"
   ]
  },
  {
   "cell_type": "code",
   "execution_count": 75,
   "metadata": {},
   "outputs": [
    {
     "name": "stdout",
     "output_type": "stream",
     "text": [
      "7\n",
      "7\n",
      "7\n",
      "3\n",
      "3\n",
      "3\n",
      "8\n"
     ]
    }
   ],
   "source": [
    "a1 = int(input())\n",
    "b1 = int(input())\n",
    "c1 = int(input())\n",
    "x = int(input())\n",
    "y = int(input())\n",
    "z = int(input())\n",
    "\n",
    "d1 = (a1 // x) * (b1 // y) * (c1 // z)\n",
    "d2 = (a1 // x) * (c1 // y) * (b1 // z)\n",
    "d3 = (b1 // x) * (c1 // y) * (a1 // z)\n",
    "d4 = (b1 // x) * (a1 // y) * (c1 // z)\n",
    "d5 = (c1 // x) * (a1 // y) * (b1 // z)\n",
    "d6 = (c1 // x) * (b1 // y) * (a1 // z)\n",
    "\n",
    "if d1 >= d2:\n",
    "    d2 = d1\n",
    "if d3 >= d4:\n",
    "    d4 = d2\n",
    "if d5 >= d6:\n",
    "    d6 = d5\n",
    "\n",
    "if d2 >= d4 and d2 >= d6:\n",
    "    print(d2)\n",
    "elif d4 >= d6:\n",
    "    print(d4)\n",
    "else:\n",
    "    print(d6)"
   ]
  },
  {
   "cell_type": "markdown",
   "metadata": {},
   "source": [
    "# Задача 20"
   ]
  },
  {
   "cell_type": "code",
   "execution_count": 82,
   "metadata": {},
   "outputs": [
    {
     "name": "stdout",
     "output_type": "stream",
     "text": [
      "3\n",
      "YES\n"
     ]
    }
   ],
   "source": [
    "k=int(input())\n",
    "if k%3==0 or k%5==5 or k%(5+3)==0 or k%5==3 or k%3==2:\n",
    "    print('YES')\n",
    "else :\n",
    "    print('NO')"
   ]
  },
  {
   "cell_type": "markdown",
   "metadata": {},
   "source": [
    "# Задача 21"
   ]
  },
  {
   "cell_type": "code",
   "execution_count": 1,
   "metadata": {},
   "outputs": [
    {
     "name": "stdout",
     "output_type": "stream",
     "text": [
      "2\n",
      "-4\n",
      "7\n",
      "1\n",
      "2\n"
     ]
    }
   ],
   "source": [
    "a = int(input())\n",
    "b = int(input())\n",
    "c = int(input())\n",
    "d = int(input())\n",
    " \n",
    "if a == 0 and b == 0: \n",
    "    print('INF')\n",
    "elif a == 0:\n",
    "    print('NO')\n",
    "else:\n",
    "    x = -b/a\n",
    "    if str(x)[-2:] != '.0': \n",
    "        print('NO')\n",
    "    else:\n",
    "        if c*b != a*d: \n",
    "            print(int(x))\n",
    "        else:\n",
    "            print('NO')"
   ]
  },
  {
   "cell_type": "markdown",
   "metadata": {},
   "source": [
    "# Задача 22"
   ]
  },
  {
   "cell_type": "code",
   "execution_count": 5,
   "metadata": {},
   "outputs": [
    {
     "name": "stdout",
     "output_type": "stream",
     "text": [
      "1\n",
      "2\n",
      "5\n",
      "20\n"
     ]
    }
   ],
   "source": [
    "k = int(input())\n",
    "m = int(input())\n",
    "n = int(input())\n",
    "if n<=k:\n",
    "    t = 2*m \n",
    "elif n*2 % k==0:\n",
    "    t = m*(n*2 // k) \n",
    "else:\n",
    "    t = m*(1+(n*2 // k))\n",
    "print(t) "
   ]
  },
  {
   "cell_type": "markdown",
   "metadata": {},
   "source": [
    "# Задача 23"
   ]
  },
  {
   "cell_type": "code",
   "execution_count": 7,
   "metadata": {},
   "outputs": [
    {
     "name": "stdout",
     "output_type": "stream",
     "text": [
      "1\n",
      "5\n",
      "0\n",
      "1\n",
      "4\n",
      "8\n",
      "0\n"
     ]
    }
   ],
   "source": [
    "l1 = int(input())\n",
    "r1 = int(input())\n",
    "l2 = int(input())\n",
    "r2 = int(input())\n",
    "l3 = int(input())\n",
    "r3 = int(input())\n",
    " \n",
    "if (l1 >= 0) and (l1 < r1) and (r1 <= 100) and \\\n",
    "        (l2 >= 0) and (l2 < r2) and (r2 <= 100) and \\\n",
    "        (l3 >= 0) and (l3 < r3) and (r3 <= 100):\n",
    "    if ((l2 - r1) <= 1) and ((l3-r2) > 1) and (l1 < l2) and \\\n",
    "            (l2 < r3) and (l1 < r3):\n",
    "        print(3)\n",
    "    elif ((l2-r1) > 1) and ((l3-r2) > 1) and (l2-r1) <= (r3-l3):\n",
    "        print(3)\n",
    "    elif ((l2-r1) > 1) and ((l3-r2) <= 1):\n",
    "        print(1)\n",
    "    elif ((l2-r1) <= 1) and (((l3-r2) <= 1) or ((l3-r1) <= 1)):\n",
    "        print(0)\n",
    "    else:\n",
    "        print(-1)\n",
    "else:\n",
    "    print(-1)"
   ]
  },
  {
   "cell_type": "markdown",
   "metadata": {},
   "source": [
    "# Задача 24"
   ]
  },
  {
   "cell_type": "code",
   "execution_count": 2,
   "metadata": {},
   "outputs": [
    {
     "name": "stdout",
     "output_type": "stream",
     "text": [
      "2\n",
      "2\n",
      "3\n",
      "3\n",
      "3\n",
      "3\n",
      "3\n",
      "5\n",
      "3\n",
      "YES\n"
     ]
    }
   ],
   "source": [
    "l1, w1, h1, l2, w2, h2, lc, wc, hc = int(input()), int(input()), int(input()), int(input()), int(input()), int(input()), int(input()), int(input()), int(input())\n",
    "l1 = max(l1, w1)\n",
    "w1 = min(l1, w1)\n",
    "l2 = max(l2, w2)\n",
    "w2 = min(l2, w2)\n",
    "lc = max(lc, wc)\n",
    "wc = min(lc, wc)\n",
    "Indic = True\n",
    "if l1 <= lc and w1 <= wc and l2 <= lc and w2 <= wc:\n",
    "    if h1 > hc or h2 > hc:\n",
    "        print(\"NO\")\n",
    "        Indic = False\n",
    "    if (Indic and l1 <= lc and w1 <= wc):\n",
    "        if (Indic and l2 <= wc - w1 and w2 <= lc) or (Indic and w2 <= wc - w1 and l2 <= lc):\n",
    "            print(\"YES\")\n",
    "            Indic = False\n",
    "        elif (Indic and l2 <= lc - l1 and w2<=wc) or (Indic and w2 <= lc - l1 and l2<=wc):\n",
    "            print(\"YES\")\n",
    "            Indic = False\n",
    "    if (Indic and w1 <= lc and l1 <= wc):\n",
    "        if (Indic and l2<=wc-l1 and w2<=lc) or (Indic and w2<=wc-l1 and l2<=lc):\n",
    "            print(\"YES\")\n",
    "            Indic = False\n",
    "    elif (Indic and l2<=lc-w1 and w2<=wc) or (Indic and w2<=lc-w1 and l2<=wc):\n",
    "        print(\"YES\")\n",
    "        Indic = False\n",
    "    if (Indic and h1+h2<=hc and l1<=lc and w1<=wc and l2<=lc and w2<=wc):\n",
    "        print(\"YES\")\n",
    "        Indic = False\n",
    "elif (Indic):\n",
    "    print(\"NO\")\n",
    "else:\n",
    "    print(\"NO\")"
   ]
  }
 ],
 "metadata": {
  "kernelspec": {
   "display_name": "Python 3",
   "language": "python",
   "name": "python3"
  },
  "language_info": {
   "codemirror_mode": {
    "name": "ipython",
    "version": 3
   },
   "file_extension": ".py",
   "mimetype": "text/x-python",
   "name": "python",
   "nbconvert_exporter": "python",
   "pygments_lexer": "ipython3",
   "version": "3.7.6"
  }
 },
 "nbformat": 4,
 "nbformat_minor": 4
}
