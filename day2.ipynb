In [ ]:print(3+2)

5

In [ ]:print(3-2)

1

In [ ]:print(3*2)

6

In [ ]:print(3 / 2)

1.5

In [ ]:print(3 ** 2)

9

In [ ]:standard_order = 2 + 3*4

print(standard_order)

my_order = (2 + 3)*4

print(my_order)

14
20

In [ ]:print(.1 + .1)

0.2

In [ ]:print(3 / 2)

1.5

In [ ]:print "|{0}| = {1}".format(complex(2, 3), abs(complex(2, 3)))

print "{0} * {1} = {2}".format(complex(1, 1), complex(2, 3), complex(1, 1) *

complex(2, 3))

In [ ]:(1 + 2j) * (3+4j)
(-5+10j)


In [ ]:print(1.1/3)

from decimal import Decimal

from decimal import getcontext

getcontext().prec = 3

Decimal('4') / 3 == Decimal('1.33')

0.3666666666666667
0.366666666667

In [ ]:from decimal import Decimal

from decimal import getcontext

getcontext().prec = 2

print(Decimal('1.10') / 3)

0.37

In [ ]:print(7/71)

print(7/71*71 == 7)

0.09859154929577464
False

In [ ]:from fractions import Fraction

print(Fraction(7, 71) * 71 == 7)

True

In [ ]:from __future__ import (absolute_import, division,

print_function, unicode_literals)

from builtins import *

In [ ]:my_string = "This is a double-quoted string."

my_string = 'This is a single-quoted string.'

In [ ]:quote = "Linus Torvalds once said, 'Any program is only as good as it is usef
ul.'"

In [ ]:first_name = 'eric'

print(first_name)

print(first_name.title())

eric
Eric

In [ ]:first_name = 'eric'

print(first_name)

print(first_name.title())

print(first_name.upper())

first_name = 'Eric'

print(first_name.lower())

eric
Eric
ERIC
eric

In [ ]:first_name = 'ada'

last_name = 'lovelace'

full_name = first_name + ' ' + last_name

print(full_name.title())

Ada Lovelace

In [ ]:first_name = 'ada'

last_name = 'lovelace'

full_name = first_name + ' ' + last_name

message = full_name.title() + ' ' + "was considered the world's first compute
r programmer."

print(message)

In [ ]:print("Hello everyone!")

Hello everyone!

In [ ]:print("\tHello everyone!")

	Hello everyone!

In [ ]:print("Hello \teveryone!")

Hello 	everyone!

In [ ]:print("Hello everyone!")

Hello everyone!

In [ ]:print("Hello!")

print("\nHello everyone!")

Hello!

Hello everyone!

In [ ]:print("Hello \neveryone!")

Hello 
everyone!

In [ ]:print("\n\n\nHello everyone!")




Hello everyone!

In [ ]:name = ' eric '

print(name.lstrip())

print(name.rstrip())

print(name.strip())

eric 
 eric
eric

In [ ]:name = ' eric '

print('-' + name.lstrip() + '-')

print('-' + name.rstrip() + '-')

print('-' + name.strip() + '-')

-eric -
- eric-
-eric-

In [ ]:name = ',,eric,,'

print('-' + name.lstrip(',') + '-')

print('-' + name.rstrip(',') + '-')

print('-' + name.strip(',') + '-')

-eric,,-
-,,eric-
-eric-

In [ ]:dir(str)
['__add__',
 '__class__',
 '__contains__',
 '__delattr__',
 '__dir__',
 '__doc__',
 '__eq__',
 '__format__',
 '__ge__',
 '__getattribute__',
 '__getitem__',
 '__getnewargs__',
 '__gt__',
 '__hash__',
 '__init__',
 '__init_subclass__',
 '__iter__',
 '__le__',
 '__len__',
 '__lt__',
 '__mod__',
 '__mul__',
 '__ne__',
 '__new__',
 '__reduce__',
 '__reduce_ex__',
 '__repr__',
 '__rmod__',
 '__rmul__',
 '__setattr__',
 '__sizeof__',
 '__str__',
 '__subclasshook__',
 'capitalize',
 'casefold',
 'center',
 'count',
 'encode',
 'endswith',
 'expandtabs',
 'find',
 'format',
 'format_map',
 'index',
 'isalnum',
 'isalpha',
 'isascii',
 'isdecimal',
 'isdigit',
 'isidentifier',
 'islower',
 'isnumeric',
 'isprintable',
 'isspace',
 'istitle',
 'isupper',
 'join',
 'ljust',
 'lower',
 'lstrip',
 'maketrans',
 'partition',
 'replace',
 'rfind',
 'rindex',
 'rjust',
 'rpartition',
 'rsplit',
 'rstrip',
 'split',
 'splitlines',
 'startswith',
 'strip',
 'swapcase',
 'title',
 'translate',
 'upper',
 'zfill']


In [ ]: "we bought a new house and we are happy".find("we")

0

In [ ]: "we bought a new house and we are happy".rfind("we")

26

In [ ]: "we bought a new house and we are happy".index("we")

0

In [ ]: "we bought a new house and we are happy".index("land")


In [ ]:"we bought a new house and we are happy".rindex("we")

26

In [ ]:"we bought a new house and we are happy".rindex("land")


In [ ]: help(str.replace)

Help on method_descriptor:

replace(self, old, new, count=-1, /)
    Return a copy with all occurrences of substring old replaced by new.

      count
        Maximum number of occurrences to replace.
        -1 (the default value) means replace all occurrences.

    If the optional argument count is given, only the first count occurrences are
    replaced.

In [ ]:"we bought a new house".replace("house", "building")

'we bought a new building'

In [ ]:"bla bla bla".replace("bla", "wow", 3)

'wow wow wow'

In [ ]:"hello#$great#$to#$see#$you".split("#$")

['hello', 'great', 'to', 'see', 'you']

In [ ]:",".join(["Ann", "Leo", "Tiffany"])

'Ann,Leo,Tiffany'

In [ ]:personal_data = {1: ("Ann", 29, "Artist"),

2: ("Leo", 54, "Programmer"),

3: ("Tiffany", 43, "Shop Assistant")}

for (name, age, occupation) in personal_data.values():

print("{0} (age {1}) is a {2}".format(name, age, occupation))
