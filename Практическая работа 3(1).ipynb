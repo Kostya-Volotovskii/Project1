{
 "cells": [
  {
   "cell_type": "markdown",
   "metadata": {},
   "source": [
    "# Задача 1"
   ]
  },
  {
   "cell_type": "code",
   "execution_count": 13,
   "metadata": {},
   "outputs": [
    {
     "name": "stdout",
     "output_type": "stream",
     "text": [
      "Hurry\n",
      "Hello, Hurry!\n"
     ]
    }
   ],
   "source": [
    "name=input()\n",
    "print(f'Hello, {name}!')"
   ]
  },
  {
   "cell_type": "markdown",
   "metadata": {},
   "source": [
    "# Задача 2"
   ]
  },
  {
   "cell_type": "code",
   "execution_count": 29,
   "metadata": {},
   "outputs": [
    {
     "name": "stdout",
     "output_type": "stream",
     "text": [
      "3\n",
      "  _~_    _~_    _~_  \n",
      " (o o)  (o o)  (o o) \n",
      " / V \\  / V \\  / V \\ \n",
      "/( _ )\\/( _ )\\/( _ )\\\n",
      " ^^ ^^  ^^ ^^  ^^ ^^ \n"
     ]
    }
   ],
   "source": [
    "num=int(input())\n",
    "print(\"  _~_  \"*num,\" (o o) \"*num,\" / V \\\\ \"*num,\"/( _ )\\\\\"*num,\" ^^ ^^ \"*num,sep=\"\\n\")"
   ]
  },
  {
   "cell_type": "markdown",
   "metadata": {},
   "source": [
    "# Задача 3"
   ]
  },
  {
   "cell_type": "code",
   "execution_count": 33,
   "metadata": {},
   "outputs": [
    {
     "name": "stdout",
     "output_type": "stream",
     "text": [
      "3\n",
      "14\n",
      "4\n"
     ]
    }
   ],
   "source": [
    "import math\n",
    "stud=int(input())\n",
    "yab=int(input())\n",
    "q=yab/stud\n",
    "print(math.floor(q))"
   ]
  },
  {
   "cell_type": "markdown",
   "metadata": {},
   "source": [
    "# Задача 4"
   ]
  },
  {
   "cell_type": "code",
   "execution_count": 37,
   "metadata": {},
   "outputs": [
    {
     "name": "stdout",
     "output_type": "stream",
     "text": [
      "3\n",
      "14\n",
      "2\n"
     ]
    }
   ],
   "source": [
    "stud=int(input())\n",
    "yab=int(input())\n",
    "q=yab%stud\n",
    "print((q))"
   ]
  },
  {
   "cell_type": "markdown",
   "metadata": {},
   "source": [
    "# Задача 5"
   ]
  },
  {
   "cell_type": "code",
   "execution_count": 41,
   "metadata": {},
   "outputs": [
    {
     "name": "stdout",
     "output_type": "stream",
     "text": [
      "2\n",
      "4\n"
     ]
    }
   ],
   "source": [
    "step=int(input())\n",
    "c=2**step\n",
    "print(c)"
   ]
  },
  {
   "cell_type": "markdown",
   "metadata": {},
   "source": [
    "# Задача 6"
   ]
  },
  {
   "cell_type": "code",
   "execution_count": 9,
   "metadata": {},
   "outputs": [
    {
     "name": "stdout",
     "output_type": "stream",
     "text": [
      "179\n",
      "9\n"
     ]
    }
   ],
   "source": [
    "num=int(input())\n",
    "while num > 10:\n",
    "    num=num-10\n",
    "print(num) "
   ]
  },
  {
   "cell_type": "markdown",
   "metadata": {},
   "source": [
    "# Задача 7"
   ]
  },
  {
   "cell_type": "code",
   "execution_count": 11,
   "metadata": {},
   "outputs": [
    {
     "name": "stdout",
     "output_type": "stream",
     "text": [
      "42\n",
      "4\n"
     ]
    }
   ],
   "source": [
    "import math\n",
    "num=int(input())\n",
    "num=num/10\n",
    "print( math.floor(num))"
   ]
  },
  {
   "cell_type": "markdown",
   "metadata": {},
   "source": [
    "# Задача 8"
   ]
  },
  {
   "cell_type": "code",
   "execution_count": 15,
   "metadata": {},
   "outputs": [
    {
     "name": "stdout",
     "output_type": "stream",
     "text": [
      "73\n",
      "7\n"
     ]
    }
   ],
   "source": [
    "import math\n",
    "num=int(input())\n",
    "while num > 100:\n",
    "    num=num-100\n",
    "num=num/10\n",
    "print( math.floor(num))"
   ]
  },
  {
   "cell_type": "markdown",
   "metadata": {},
   "source": [
    "# Задача 9"
   ]
  },
  {
   "cell_type": "code",
   "execution_count": 7,
   "metadata": {},
   "outputs": [
    {
     "name": "stdout",
     "output_type": "stream",
     "text": [
      "179\n",
      "17\n"
     ]
    }
   ],
   "source": [
    "import math\n",
    "N=int(input())\n",
    "n1=N/100\n",
    "n1=math.floor(n1)\n",
    "Q=N\n",
    "while Q > 100:\n",
    "    n2=(N-100)-N%10\n",
    "    Q=Q-100\n",
    "n2=n2/10\n",
    "n3=N%10\n",
    "print(int(n1)+int(n2)+int(n3))"
   ]
  },
  {
   "cell_type": "markdown",
   "metadata": {},
   "source": [
    "# Задача 10"
   ]
  },
  {
   "cell_type": "code",
   "execution_count": 6,
   "metadata": {},
   "outputs": [
    {
     "name": "stdout",
     "output_type": "stream",
     "text": [
      "AAAAAAAAAAAAAAAAAAAAAAAAAAAAAAAAAAAAAAAAAAAAAAAAAAAAAAAAAAAAAAAAAAAAAAAAAAAAAAAAAAAAAAAAAAAAAAAAAAAA\n"
     ]
    }
   ],
   "source": [
    "print(\"A\"*100)"
   ]
  },
  {
   "cell_type": "markdown",
   "metadata": {},
   "source": [
    "# Задача 11"
   ]
  },
  {
   "cell_type": "code",
   "execution_count": 28,
   "metadata": {},
   "outputs": [
    {
     "name": "stdout",
     "output_type": "stream",
     "text": [
      "150\n",
      "2 30\n"
     ]
    }
   ],
   "source": [
    "q=0\n",
    "N=int(input())\n",
    "while N > 60:\n",
    "    N=N-60\n",
    "    q+=1\n",
    "if N==60:\n",
    "    q+=1\n",
    "    print(q,\"00\")\n",
    "else: print(q,N)"
   ]
  },
  {
   "cell_type": "markdown",
   "metadata": {},
   "source": [
    "# Задача 12"
   ]
  },
  {
   "cell_type": "code",
   "execution_count": 40,
   "metadata": {},
   "outputs": [
    {
     "name": "stdout",
     "output_type": "stream",
     "text": [
      "10\n",
      "15\n",
      "2\n",
      "20 30\n"
     ]
    }
   ],
   "source": [
    "import math\n",
    "A=int(input())\n",
    "B=float(input())\n",
    "N=int(input())\n",
    "pie=0\n",
    "while B>1:\n",
    "    B=B/100\n",
    "pie=int(A)+float(B)\n",
    "sum=pie*N\n",
    "c=math.floor(sum)\n",
    "c1=(sum-c)*100\n",
    "c1=round(c1)\n",
    "print(c,c1)\n"
   ]
  },
  {
   "cell_type": "markdown",
   "metadata": {},
   "source": [
    "# Задача 13"
   ]
  },
  {
   "cell_type": "code",
   "execution_count": 44,
   "metadata": {},
   "outputs": [
    {
     "name": "stdout",
     "output_type": "stream",
     "text": [
      "179\n",
      "The next number for the number 179 is 180\n",
      "The previous number for the number 179 is 178\n"
     ]
    }
   ],
   "source": [
    "number=int(input())\n",
    "print(f'The next number for the number {number} is {number+1}')\n",
    "print(f'The previous number for the number {number} is {number-1}')"
   ]
  },
  {
   "cell_type": "markdown",
   "metadata": {},
   "source": [
    "# Задача 14"
   ]
  },
  {
   "cell_type": "code",
   "execution_count": 45,
   "metadata": {},
   "outputs": [
    {
     "name": "stdout",
     "output_type": "stream",
     "text": [
      "0\n",
      "1\n"
     ]
    }
   ],
   "source": [
    "num=int(input())\n",
    "if num==1:\n",
    "    print('0')\n",
    "if num==0:\n",
    "    print('1')"
   ]
  },
  {
   "cell_type": "markdown",
   "metadata": {},
   "source": [
    "# Задача 15"
   ]
  },
  {
   "cell_type": "code",
   "execution_count": 52,
   "metadata": {},
   "outputs": [
    {
     "name": "stdout",
     "output_type": "stream",
     "text": [
      "7\n",
      "8\n"
     ]
    }
   ],
   "source": [
    "num=int(input())\n",
    "ost=num%2\n",
    "\n",
    "if ost==1:\n",
    "    print(num+1)\n",
    "if ost==0:\n",
    "    print(num+2)"
   ]
  },
  {
   "cell_type": "markdown",
   "metadata": {},
   "source": [
    "# Задача 16"
   ]
  },
  {
   "cell_type": "code",
   "execution_count": 68,
   "metadata": {},
   "outputs": [
    {
     "name": "stdout",
     "output_type": "stream",
     "text": [
      "0\n",
      "0\n"
     ]
    }
   ],
   "source": [
    "N=input()\n",
    "if int(N)==0:\n",
    "    print(\"0\")\n",
    "else:\n",
    "    print(str(N)*100)\n",
    "    q=0\n",
    "    q=int(N)*int(N)\n",
    "    print(q)"
   ]
  },
  {
   "cell_type": "markdown",
   "metadata": {},
   "source": [
    "# Задача 17"
   ]
  },
  {
   "cell_type": "code",
   "execution_count": 73,
   "metadata": {},
   "outputs": [
    {
     "name": "stdout",
     "output_type": "stream",
     "text": [
      "60\n",
      "2\n",
      "11\n"
     ]
    }
   ],
   "source": [
    "scor=int(input())\n",
    "time=int(input())\n",
    "q=scor*time\n",
    "D=109\n",
    "while q > D:\n",
    "    q=q-D\n",
    "print(q)"
   ]
  },
  {
   "cell_type": "markdown",
   "metadata": {},
   "source": [
    "# Задача 18"
   ]
  },
  {
   "cell_type": "code",
   "execution_count": 124,
   "metadata": {},
   "outputs": [
    {
     "name": "stdout",
     "output_type": "stream",
     "text": [
      "3602\n",
      "1:00:02\n"
     ]
    }
   ],
   "source": [
    "sec=int(input())\n",
    "minut=0\n",
    "hour=0\n",
    "while sec >= 60:\n",
    "    sec=sec-60\n",
    "    minut+=1\n",
    "while minut >= 60:\n",
    "    minut-=60\n",
    "    hour+=1\n",
    "\n",
    "if minut%10==0:\n",
    "    minut=str(f'{minut}0')\n",
    "elif int(minut) < 10:\n",
    "    minut=str(f'0{minut}')\n",
    "if sec%10==0:\n",
    "    sec=str(f'{sec}0')\n",
    "elif int(sec) < 10:\n",
    "    sec=str(f'0{sec}')\n",
    "    \n",
    "print(f'{hour}:{minut}:{sec}')"
   ]
  },
  {
   "cell_type": "markdown",
   "metadata": {},
   "source": [
    "# Задача 19"
   ]
  },
  {
   "cell_type": "code",
   "execution_count": 3,
   "metadata": {},
   "outputs": [
    {
     "name": "stdout",
     "output_type": "stream",
     "text": [
      "1\n",
      "1\n",
      "1\n",
      "2\n",
      "2\n",
      "2\n",
      "3661\n"
     ]
    }
   ],
   "source": [
    "ch=int(input())\n",
    "minut=int(input())\n",
    "sec=int(input())\n",
    "ch1=int(input())\n",
    "minut1=int(input())\n",
    "sec1=int(input())\n",
    "wer=0\n",
    "wer1=0\n",
    "wer2=0\n",
    "summ=0\n",
    "wer=ch1-ch\n",
    "wer1=minut1-minut\n",
    "wer2=sec1-sec\n",
    "wer=wer*3600\n",
    "wer1=wer1*60\n",
    "summ=wer+wer1+wer2\n",
    "print(summ)"
   ]
  },
  {
   "cell_type": "markdown",
   "metadata": {},
   "source": [
    "# Задача 20"
   ]
  },
  {
   "cell_type": "code",
   "execution_count": 128,
   "metadata": {},
   "outputs": [
    {
     "name": "stdout",
     "output_type": "stream",
     "text": [
      "700\n",
      "750\n",
      "2\n"
     ]
    }
   ],
   "source": [
    "N=int(input())\n",
    "M=int(input())\n",
    "day=0\n",
    "while M >= 24:\n",
    "    M=M-N\n",
    "    day+=1\n",
    "print(day)"
   ]
  },
  {
   "cell_type": "markdown",
   "metadata": {},
   "source": [
    "# Задача 21"
   ]
  },
  {
   "cell_type": "code",
   "execution_count": 1,
   "metadata": {},
   "outputs": [
    {
     "name": "stdout",
     "output_type": "stream",
     "text": [
      "10\n",
      "3\n",
      "2\n",
      "8\n"
     ]
    }
   ],
   "source": [
    "H=int(input())\n",
    "A=int(input())\n",
    "B=int(input())\n",
    "day=0\n",
    "q=0\n",
    "w=0\n",
    "while H > q:\n",
    "    if w==0:\n",
    "        q=q+A\n",
    "        if H <=q:\n",
    "            day+=1\n",
    "            print(day)\n",
    "            w=1\n",
    "            q=H+H\n",
    "        q=q-B\n",
    "        day+=1\n"
   ]
  },
  {
   "cell_type": "markdown",
   "metadata": {},
   "source": [
    "# Задача 22"
   ]
  },
  {
   "cell_type": "code",
   "execution_count": 3,
   "metadata": {},
   "outputs": [
    {
     "name": "stdout",
     "output_type": "stream",
     "text": [
      "2002\n",
      "1\n"
     ]
    }
   ],
   "source": [
    "num=int(input())\n",
    "otvet=0\n",
    "lev=0\n",
    "lev2=0\n",
    "pra=0\n",
    "pra2=0\n",
    "lev=num//1000\n",
    "lev2=num//100%10\n",
    "pra=num//10-lev*100-lev2*10\n",
    "pra2=num%10\n",
    "if lev==pra2:\n",
    "    if lev2==pra:\n",
    "        otvet=1\n",
    "print(otvet)"
   ]
  },
  {
   "cell_type": "markdown",
   "metadata": {},
   "source": [
    "# Задача 23"
   ]
  },
  {
   "cell_type": "code",
   "execution_count": 4,
   "metadata": {},
   "outputs": [
    {
     "name": "stdout",
     "output_type": "stream",
     "text": [
      "8\n",
      "5\n",
      "8\n"
     ]
    }
   ],
   "source": [
    "A = int(input())\n",
    "B = int(input())\n",
    "A1 = A // B\n",
    "A2 = A % B\n",
    "A3 = 0**(A - A2)\n",
    "B1 = B // A\n",
    "B2 = B % A\n",
    "B3 = 0**(B - B2)\n",
    "Max = A1 * B2 + A2 * B1 + B2 * A3 + A2 * B3 + A * A3**B3 * B3**A3\n",
    "print(Max)"
   ]
  },
  {
   "cell_type": "markdown",
   "metadata": {},
   "source": [
    "# Задание 24"
   ]
  },
  {
   "cell_type": "code",
   "execution_count": 6,
   "metadata": {},
   "outputs": [
    {
     "name": "stdout",
     "output_type": "stream",
     "text": [
      "10\n",
      "5\n",
      "YES\n"
     ]
    }
   ],
   "source": [
    "a = int(input())\n",
    "b = int(input())\n",
    "print('YES' * int(a % b == 0) or 'NO' * int(a % b != 0))"
   ]
  }
 ],
 "metadata": {
  "kernelspec": {
   "display_name": "Python 3",
   "language": "python",
   "name": "python3"
  },
  "language_info": {
   "codemirror_mode": {
    "name": "ipython",
    "version": 3
   },
   "file_extension": ".py",
   "mimetype": "text/x-python",
   "name": "python",
   "nbconvert_exporter": "python",
   "pygments_lexer": "ipython3",
   "version": "3.7.6"
  }
 },
 "nbformat": 4,
 "nbformat_minor": 4
}
