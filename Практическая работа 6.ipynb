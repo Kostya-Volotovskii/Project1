{
 "cells": [
  {
   "cell_type": "markdown",
   "metadata": {},
   "source": [
    "# Задача 1"
   ]
  },
  {
   "cell_type": "code",
   "execution_count": 4,
   "metadata": {},
   "outputs": [
    {
     "name": "stdout",
     "output_type": "stream",
     "text": [
      "2\n",
      "1.25\n"
     ]
    }
   ],
   "source": [
    "N=int(input())\n",
    "q=0\n",
    "for i in range(1 , N+1):\n",
    "     q=q+(1/i**2)\n",
    "print(q)"
   ]
  },
  {
   "cell_type": "markdown",
   "metadata": {},
   "source": [
    "# Задача 2"
   ]
  },
  {
   "cell_type": "code",
   "execution_count": 11,
   "metadata": {},
   "outputs": [
    {
     "name": "stdout",
     "output_type": "stream",
     "text": [
      "10.34\n",
      "0.34\n"
     ]
    }
   ],
   "source": [
    "import math\n",
    "N=float(input())\n",
    "while N > 1:\n",
    "    N-=1\n",
    "print(round(N, 3))"
   ]
  },
  {
   "cell_type": "markdown",
   "metadata": {},
   "source": [
    "# Задача 3"
   ]
  },
  {
   "cell_type": "code",
   "execution_count": 14,
   "metadata": {},
   "outputs": [
    {
     "name": "stdout",
     "output_type": "stream",
     "text": [
      "1.99\n",
      "1 99\n"
     ]
    }
   ],
   "source": [
    "import math\n",
    "N=float(input())\n",
    "q=N\n",
    "while N > 1:\n",
    "    N-=1\n",
    "print(f'{math.floor(q)} {round(N*100)}')"
   ]
  },
  {
   "cell_type": "markdown",
   "metadata": {},
   "source": [
    "# Задача 4"
   ]
  },
  {
   "cell_type": "code",
   "execution_count": 18,
   "metadata": {},
   "outputs": [
    {
     "name": "stdout",
     "output_type": "stream",
     "text": [
      "2.5\n",
      "3\n"
     ]
    }
   ],
   "source": [
    "import math\n",
    "N=float(input())\n",
    "q=N\n",
    "while  q > 1:\n",
    "    q-=1\n",
    "if q >= 0.5:\n",
    "    print(math.ceil(N))\n",
    "elif q < 0.5:\n",
    "    print(math.floor(N))"
   ]
  },
  {
   "cell_type": "markdown",
   "metadata": {},
   "source": [
    "# Задача 5"
   ]
  },
  {
   "cell_type": "code",
   "execution_count": 21,
   "metadata": {},
   "outputs": [
    {
     "name": "stdout",
     "output_type": "stream",
     "text": [
      "12\n",
      "179\n",
      "0\n",
      "200 48\n"
     ]
    }
   ],
   "source": [
    "p = int(input())\n",
    "x = int(input())\n",
    "y = int(input())\n",
    "ch1 = 100 * x + y\n",
    "ch2 = int(ch1 * (100 + p) / 100)\n",
    "print(ch2 // 100, ch2 % 100)"
   ]
  },
  {
   "cell_type": "markdown",
   "metadata": {},
   "source": [
    "# Задача 6"
   ]
  },
  {
   "cell_type": "code",
   "execution_count": 9,
   "metadata": {},
   "outputs": [
    {
     "name": "stdout",
     "output_type": "stream",
     "text": [
      "13\n",
      "179\n",
      "0\n",
      "100\n",
      "36360285 50\n"
     ]
    }
   ],
   "source": [
    "p = int(input())\n",
    "x = int(input())\n",
    "y = int(input())\n",
    "k = int(input())\n",
    "sum = 100 * x + y \n",
    "for i in range(k):\n",
    "    sum += int(sum * p / 100)\n",
    "print(sum // 100, sum % 100)"
   ]
  },
  {
   "cell_type": "markdown",
   "metadata": {},
   "source": [
    "# Задача 7"
   ]
  },
  {
   "cell_type": "code",
   "execution_count": 12,
   "metadata": {},
   "outputs": [
    {
     "name": "stdout",
     "output_type": "stream",
     "text": [
      "2\n",
      "0.500\n",
      "1.000\n",
      "1.000\n",
      "1.000\n",
      "1.75\n"
     ]
    }
   ],
   "source": [
    "n=int(input())\n",
    "x=float(input())\n",
    "a1=float(input())\n",
    "P=a1\n",
    "for i in range(n):\n",
    "    a2=float(input())\n",
    "    P=P*x+a2\n",
    "j=10\n",
    "K=(int(P*j)%j)\n",
    "while K!=0:\n",
    "    j*=10\n",
    "    K=(int(P*j)%10)\n",
    "if j != 10 :\n",
    "    P = ((P*(j/10))//1)/(j/10)\n",
    "    print(P)\n",
    "else:\n",
    "    print(int(P))"
   ]
  },
  {
   "cell_type": "markdown",
   "metadata": {},
   "source": [
    "# Задача 8"
   ]
  },
  {
   "cell_type": "code",
   "execution_count": 13,
   "metadata": {},
   "outputs": [
    {
     "name": "stdout",
     "output_type": "stream",
     "text": [
      "1\n",
      "7\n",
      "9\n",
      "0\n",
      "4.16333199893\n"
     ]
    }
   ],
   "source": [
    "from math import sqrt\n",
    "ch1= 0\n",
    "zn1 = 0\n",
    "x_i = int(input())\n",
    "n = 0\n",
    "while x_i != 0:\n",
    "    n += 1\n",
    "    ch1+= x_i\n",
    "    zn1 += x_i ** 2\n",
    "    x_i = int(input())\n",
    "q=sqrt((zn1 - ch1** 2 / n) / (n - 1))\n",
    "print(round(q,11))"
   ]
  },
  {
   "cell_type": "markdown",
   "metadata": {},
   "source": [
    "# Задача 9"
   ]
  },
  {
   "cell_type": "code",
   "execution_count": 29,
   "metadata": {},
   "outputs": [
    {
     "name": "stdout",
     "output_type": "stream",
     "text": [
      "1\n",
      "-7.5\n",
      "3\n",
      "0.423966 7.07603\n"
     ]
    }
   ],
   "source": [
    "from math import sqrt\n",
    "a=float(input())\n",
    "b=float(input())\n",
    "c=float(input())\n",
    "if a!=0:\n",
    "    D=b**2-4*a*c\n",
    "    if D > 0:\n",
    "        x1=((-b + sqrt(D))/(2*a))\n",
    "        x2=((-b - sqrt(D))/(2*a))\n",
    "        print(f'{round(x2,6)} {round(x1,5)}')\n",
    "    elif D == 1:\n",
    "        x=-b/(2*a)\n",
    "        print(x)"
   ]
  },
  {
   "cell_type": "markdown",
   "metadata": {},
   "source": [
    "# Задача 10"
   ]
  },
  {
   "cell_type": "code",
   "execution_count": 41,
   "metadata": {},
   "outputs": [
    {
     "name": "stdout",
     "output_type": "stream",
     "text": [
      "1\n",
      "-7.5\n",
      "3\n",
      "2 0.423966 7.07603\n"
     ]
    }
   ],
   "source": [
    "from math import sqrt\n",
    "a=float(input())\n",
    "b=float(input())\n",
    "c=float(input())\n",
    "D=b**2-4*a*c\n",
    "if a == 0:\n",
    "    if b == 0 and c == 0:\n",
    "        print('3')\n",
    "if D > 0:\n",
    "    x1=((-b + sqrt(D))/(2*a))\n",
    "    x2=((-b - sqrt(D))/(2*a))\n",
    "    if x2 < x1:\n",
    "        print(f'2 {round(x2,6)} {round(x1,5)}')\n",
    "    elif x1 >= x2:\n",
    "        print(f'2 {round(x1,6)} {round(x2,5)}')\n",
    "elif D == 1:\n",
    "    x=-b/(2*a)\n",
    "    print(f'1 {x}')\n",
    "else:\n",
    "    print(\"0\")"
   ]
  },
  {
   "cell_type": "markdown",
   "metadata": {},
   "source": [
    "# Задача 11"
   ]
  },
  {
   "cell_type": "code",
   "execution_count": 43,
   "metadata": {},
   "outputs": [
    {
     "name": "stdout",
     "output_type": "stream",
     "text": [
      "1\n",
      "0\n",
      "0\n",
      "1\n",
      "3\n",
      "3\n",
      "3 3\n"
     ]
    }
   ],
   "source": [
    "a = float(input())\n",
    "b = float(input())\n",
    "c = float(input())\n",
    "d = float(input())\n",
    "e = float(input())\n",
    "f = float(input())\n",
    "if b != 0:\n",
    "    y = (c * e - a * f) / (b * c - a * d)\n",
    "    if c != 0:\n",
    "        x = (f - d * y) / c\n",
    "        if x%1==0 and y%1==0:\n",
    "            print(int(x), int(y))\n",
    "        else:\n",
    "            print(x,y)\n",
    "else:\n",
    "    if a != 0:\n",
    "        x = (f * b - d * e) / (b * c - d * a)\n",
    "        if d != 0:\n",
    "            y = (f - c * x) / d\n",
    "            if x%1==0 and y%1==0:\n",
    "                print(int(x), int(y))\n",
    "            else:\n",
    "                print(x,y)"
   ]
  },
  {
   "cell_type": "markdown",
   "metadata": {},
   "source": [
    "# Задача 12"
   ]
  },
  {
   "cell_type": "code",
   "execution_count": 45,
   "metadata": {},
   "outputs": [
    {
     "name": "stdout",
     "output_type": "stream",
     "text": [
      "0\n",
      "2\n",
      "0\n",
      "4\n",
      "1\n",
      "2\n",
      "4 0.5\n"
     ]
    }
   ],
   "source": [
    "a = float(input())\n",
    "b = float(input())\n",
    "c = float(input())\n",
    "d = float(input())\n",
    "e = float(input())\n",
    "f = float(input())\n",
    "if a == 0 and b == 0 and c == 0 and d == 0 and e == 0 and f == 0:\n",
    "    print(5)\n",
    "elif a * d == b * c and a * f != c * e:\n",
    "    print(0)\n",
    "elif a == 0 and b == 0 and e != 0:\n",
    "    print(0)\n",
    "elif c == 0 and d == 0 and f != 0:\n",
    "    print(0)\n",
    "elif a == 0 and c == 0 and b * f != d * e:\n",
    "    print(0)\n",
    "elif b == 0 and d == 0 and a * f != c * e:\n",
    "    print(0)\n",
    "elif a * d == b * c and a * f == c * e:\n",
    "    if b == 0 and d == 0:\n",
    "        if a != 0 and c != 0:\n",
    "            print(3, e / a)\n",
    "        elif a == 0:\n",
    "            if e == 0:\n",
    "                print(3, f / c)\n",
    "        elif c == 0:\n",
    "            if f == 0:\n",
    "                print(3, e / a)\n",
    "    elif a == 0 and c == 0:\n",
    "        if b != 0:\n",
    "            print(4, e / b)\n",
    "        elif d != 0:\n",
    "            print(4, f / d)\n",
    "    elif b != 0:\n",
    "        print(1, -a / b, e / b)\n",
    "    elif d != 0:\n",
    "        print(1, -c / d, f / d)\n",
    "else:\n",
    "    x = (e * d - b * f) / (a * d - b * c)\n",
    "    y = (a * f - e * c) / (a * d - b * c)\n",
    "    print(2, x, y)"
   ]
  },
  {
   "cell_type": "markdown",
   "metadata": {},
   "source": [
    "# Задача 13"
   ]
  },
  {
   "cell_type": "code",
   "execution_count": 55,
   "metadata": {},
   "outputs": [
    {
     "name": "stdout",
     "output_type": "stream",
     "text": [
      "Hello\n",
      "l\n",
      "l\n",
      "Hello\n",
      "Hel\n",
      "Hlo\n",
      "el\n",
      "olleH\n",
      "olH\n",
      "5\n"
     ]
    }
   ],
   "source": [
    "s =input() # Строка\n",
    "print(s[2])\n",
    "print(s[-2])\n",
    "print(s[:5])\n",
    "print(s[:-2])\n",
    "print(s[::2])\n",
    "print(s[1::2])\n",
    "print(s[::-1])\n",
    "print(s[::-2])\n",
    "print(len(s))"
   ]
  },
  {
   "cell_type": "markdown",
   "metadata": {},
   "source": [
    "# Задача 14"
   ]
  },
  {
   "cell_type": "code",
   "execution_count": 65,
   "metadata": {},
   "outputs": [
    {
     "name": "stdout",
     "output_type": "stream",
     "text": [
      "office\n",
      "1 2\n"
     ]
    }
   ],
   "source": [
    "s = input()\n",
    "if s.count('f') == 1:\n",
    "    print(s.find('f'))\n",
    "elif s.count('f') >= 2:\n",
    "    print(s.find('f'), s.rfind('f'))"
   ]
  },
  {
   "cell_type": "markdown",
   "metadata": {},
   "source": [
    "# Задача 15"
   ]
  },
  {
   "cell_type": "code",
   "execution_count": 67,
   "metadata": {},
   "outputs": [
    {
     "name": "stdout",
     "output_type": "stream",
     "text": [
      "In the hole in the ground there lived a hobbit\n",
      "In tobbit\n"
     ]
    }
   ],
   "source": [
    "s = input()\n",
    "s = s[:s.find('h')] + s[s.rfind('h') + 1:]\n",
    "print(s)"
   ]
  },
  {
   "cell_type": "markdown",
   "metadata": {},
   "source": [
    "# Задача 16"
   ]
  },
  {
   "cell_type": "code",
   "execution_count": 7,
   "metadata": {},
   "outputs": [
    {
     "name": "stdout",
     "output_type": "stream",
     "text": [
      "In the hole in the ground there lived a hobbit\n",
      "In the hole in the ground there lived a e hole in the ground there lived a hobbit\n"
     ]
    }
   ],
   "source": [
    "s = input()\n",
    "a = s.index('h')\n",
    "s1 = s[:a+1]\n",
    "s = s[a+1:][::-1]\n",
    "a = s.index('h')\n",
    "s3 = s[:a+1][::-1]\n",
    "s = s[a+1:][::-1]\n",
    "print(s1+s*2+s3)"
   ]
  },
  {
   "cell_type": "markdown",
   "metadata": {},
   "source": [
    "# Задача 17"
   ]
  },
  {
   "cell_type": "code",
   "execution_count": 10,
   "metadata": {},
   "outputs": [
    {
     "name": "stdout",
     "output_type": "stream",
     "text": [
      "qwerty\n",
      "-2\n"
     ]
    }
   ],
   "source": [
    "a=input()\n",
    "num=0\n",
    "for i in range(len(a)):\n",
    "    if a[i]==\"f\":\n",
    "        num+=1\n",
    "        if num==2:\n",
    "            print(i)\n",
    "            \n",
    "if num==1:\n",
    "        print('-1')\n",
    "elif \"f\" not in a:\n",
    "    print('-2')"
   ]
  },
  {
   "cell_type": "markdown",
   "metadata": {},
   "source": [
    "# Задача 18"
   ]
  },
  {
   "cell_type": "code",
   "execution_count": 11,
   "metadata": {},
   "outputs": [
    {
     "name": "stdout",
     "output_type": "stream",
     "text": [
      "Hello, world!\n",
      "world! Hello,\n"
     ]
    }
   ],
   "source": [
    "s = input()\n",
    "one = s[:s.find(' ')]\n",
    "two = s[s.find(' ') + 1:]\n",
    "print(two + ' ' + one)"
   ]
  },
  {
   "cell_type": "markdown",
   "metadata": {},
   "source": [
    "# Задача 19"
   ]
  },
  {
   "cell_type": "code",
   "execution_count": 22,
   "metadata": {},
   "outputs": [
    {
     "name": "stdout",
     "output_type": "stream",
     "text": [
      "Hello world\n",
      "2\n"
     ]
    }
   ],
   "source": [
    "s = input()\n",
    "print(s.count(' ')+1)"
   ]
  },
  {
   "cell_type": "markdown",
   "metadata": {},
   "source": [
    "# Задача 20"
   ]
  },
  {
   "cell_type": "code",
   "execution_count": 28,
   "metadata": {},
   "outputs": [
    {
     "name": "stdout",
     "output_type": "stream",
     "text": [
      "1+1=2\n",
      "one+one=2\n"
     ]
    }
   ],
   "source": [
    "s=input()\n",
    "q=s.replace('1','one')\n",
    "print(q)"
   ]
  },
  {
   "cell_type": "markdown",
   "metadata": {},
   "source": [
    "# Задача 21"
   ]
  },
  {
   "cell_type": "code",
   "execution_count": 30,
   "metadata": {},
   "outputs": [
    {
     "name": "stdout",
     "output_type": "stream",
     "text": [
      "Bilbo.Baggins@bagend.hobbiton.shire.me\n",
      "Bilbo.Bagginsbagend.hobbiton.shire.me\n"
     ]
    }
   ],
   "source": [
    "s=input()\n",
    "q=s.replace('@','')\n",
    "print(q)"
   ]
  },
  {
   "cell_type": "markdown",
   "metadata": {},
   "source": [
    "# Задача 22"
   ]
  },
  {
   "cell_type": "code",
   "execution_count": 38,
   "metadata": {},
   "outputs": [
    {
     "name": "stdout",
     "output_type": "stream",
     "text": [
      "In the hole in the ground there lived a hobbit\n",
      "In the Hole in tHe ground tHere lived a hobbit\n"
     ]
    }
   ],
   "source": [
    "s=input()\n",
    "w1=s.find('h')\n",
    "w2=s.rfind('h')\n",
    "w3=s[w1+1:w2]\n",
    "w3=w3.replace('h','H')\n",
    "w4=s[:w1+1]\n",
    "w5=s[w2:]\n",
    "print(f'{w4}{w3}{w5}')"
   ]
  },
  {
   "cell_type": "markdown",
   "metadata": {},
   "source": [
    "# Задача 23"
   ]
  },
  {
   "cell_type": "code",
   "execution_count": 39,
   "metadata": {},
   "outputs": [
    {
     "name": "stdout",
     "output_type": "stream",
     "text": [
      "Python\n",
      "P*y*t*h*o*n\n"
     ]
    }
   ],
   "source": [
    "print(\"*\".join(input()))"
   ]
  },
  {
   "cell_type": "markdown",
   "metadata": {},
   "source": [
    "# Задача 24"
   ]
  },
  {
   "cell_type": "code",
   "execution_count": 40,
   "metadata": {},
   "outputs": [
    {
     "name": "stdout",
     "output_type": "stream",
     "text": [
      "Python\n",
      "yton\n"
     ]
    }
   ],
   "source": [
    "s = input()\n",
    "p = ''\n",
    "for i in range(len(s)):\n",
    "    if i % 3 != 0:\n",
    "        p = p + s[i]\n",
    "print(p)"
   ]
  }
 ],
 "metadata": {
  "kernelspec": {
   "display_name": "Python 3",
   "language": "python",
   "name": "python3"
  },
  "language_info": {
   "codemirror_mode": {
    "name": "ipython",
    "version": 3
   },
   "file_extension": ".py",
   "mimetype": "text/x-python",
   "name": "python",
   "nbconvert_exporter": "python",
   "pygments_lexer": "ipython3",
   "version": "3.7.6"
  }
 },
 "nbformat": 4,
 "nbformat_minor": 4
}
